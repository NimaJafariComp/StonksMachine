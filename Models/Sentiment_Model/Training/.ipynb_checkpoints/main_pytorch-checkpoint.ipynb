{
 "cells": [
  {
   "cell_type": "code",
   "execution_count": 1,
   "id": "be9bf38a-a805-44df-a52c-d2cd61bf9e0d",
   "metadata": {},
   "outputs": [],
   "source": [
    "#begin here"
   ]
  },
  {
   "cell_type": "code",
   "execution_count": 2,
   "id": "d63955e2-0894-411f-90d1-003de98696f6",
   "metadata": {},
   "outputs": [],
   "source": [
    "#import everything\n",
    "import torch\n",
    "import torch.nn as nn\n",
    "import torch.optim as optim\n",
    "import torch.nn.functional as F\n",
    "from torchvision import datasets, transforms\n",
    "import numpy as np\n",
    "import math\n",
    "import time\n",
    "import keyboard\n",
    "import matplotlib.pyplot as plt\n",
    "import pandas as pd\n",
    "import nltk\n",
    "from nltk.tokenize import word_tokenize\n",
    "from nltk.corpus import stopwords\n",
    "from transformers import AdamW\n",
    "from torch.utils.data import DataLoader, Dataset\n",
    "from transformers import BertTokenizer, BertForSequenceClassification\n",
    "import spacy\n",
    "import pydantic"
   ]
  },
  {
   "cell_type": "code",
   "execution_count": 3,
   "id": "3198cf8a-48f1-4102-98a3-dda180b06a1b",
   "metadata": {},
   "outputs": [
    {
     "name": "stdout",
     "output_type": "stream",
     "text": [
      "spacy version: 3.7.5\n",
      "pydantic version: 2.8.2\n"
     ]
    }
   ],
   "source": [
    "print(\"spacy version:\", spacy.__version__)\n",
    "print(\"pydantic version:\", pydantic.__version__)"
   ]
  },
  {
   "cell_type": "code",
   "execution_count": null,
   "id": "a5b6042b-3921-459c-90ea-83c3d08a16d5",
   "metadata": {},
   "outputs": [],
   "source": []
  }
 ],
 "metadata": {
  "kernelspec": {
   "display_name": "Python 3 (ipykernel)",
   "language": "python",
   "name": "python3"
  },
  "language_info": {
   "codemirror_mode": {
    "name": "ipython",
    "version": 3
   },
   "file_extension": ".py",
   "mimetype": "text/x-python",
   "name": "python",
   "nbconvert_exporter": "python",
   "pygments_lexer": "ipython3",
   "version": "3.12.4"
  }
 },
 "nbformat": 4,
 "nbformat_minor": 5
}
