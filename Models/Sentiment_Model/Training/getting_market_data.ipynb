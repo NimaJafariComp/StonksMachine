{
 "cells": [
  {
   "cell_type": "code",
   "execution_count": 1,
   "id": "7b432e41-2a58-4b99-95ec-6ead78adeb2c",
   "metadata": {},
   "outputs": [],
   "source": [
    "#import everything\n",
    "import torch\n",
    "import torch.nn as nn\n",
    "import torch.optim as optim\n",
    "import torch.nn.functional as F\n",
    "from torchvision import datasets, transforms\n",
    "import numpy as np\n",
    "import math\n",
    "import time\n",
    "import keyboard\n",
    "import matplotlib.pyplot as plt\n",
    "import pandas as pd\n",
    "import nltk\n",
    "from nltk.tokenize import word_tokenize\n",
    "from nltk.corpus import stopwords\n",
    "from transformers import AdamW\n",
    "from torch.utils.data import DataLoader, Dataset\n",
    "from transformers import BertTokenizer, BertForSequenceClassification\n",
    "import spacy\n",
    "import pydantic\n",
    "import requests\n",
    "from bs4 import BeautifulSoup\n",
    "from lumibot.brokers import Alpaca\n",
    "from alpaca_trade_api import REST\n",
    "from datetime import datetime, timedelta \n",
    "import time as Time"
   ]
  },
  {
   "cell_type": "code",
   "execution_count": 2,
   "id": "65229ecc-88fc-4e3d-9901-fec4fd48874b",
   "metadata": {},
   "outputs": [],
   "source": [
    "# Setup the API\n",
    "API_KEY = \"PKWG828Y4OQ3Q081LAH0\" \n",
    "API_SECRET = \"tS8dvpp3GEXUdOfg5Nbtjn81C0y5Lghpidxr8Guy\" \n",
    "BASE_URL = \"https://paper-api.alpaca.markets/v2\"\n",
    "ALPACA_CREDS = {\n",
    "    \"API_KEY\":API_KEY, \n",
    "    \"API_SECRET\": API_SECRET, \n",
    "    \"PAPER\": True\n",
    "}\n",
    "api = REST(base_url=BASE_URL, key_id=API_KEY, secret_key=API_SECRET)"
   ]
  },
  {
   "cell_type": "code",
   "execution_count": 3,
   "id": "7249de59-ae83-4791-b4ba-1af74f30dffa",
   "metadata": {},
   "outputs": [
    {
     "name": "stdout",
     "output_type": "stream",
     "text": [
      "Help on method get_bars in module alpaca_trade_api.rest:\n",
      "\n",
      "get_bars(symbol: Union[str, List[str]], timeframe: alpaca_trade_api.rest.TimeFrame, start: Optional[str] = None, end: Optional[str] = None, adjustment: str = 'raw', limit: int = None, feed: Optional[str] = None, asof: Optional[str] = None, sort: Optional[alpaca_trade_api.rest.Sort] = None) -> alpaca_trade_api.entity_v2.BarsV2 method of alpaca_trade_api.rest.REST instance\n",
      "\n"
     ]
    }
   ],
   "source": [
    "help(api.get_bars)"
   ]
  },
  {
   "cell_type": "code",
   "execution_count": 4,
   "id": "6f793020-ac3b-4834-85b5-bd8842435233",
   "metadata": {},
   "outputs": [
    {
     "name": "stdout",
     "output_type": "stream",
     "text": [
      "Sleeping for 2 sec...\n"
     ]
    },
    {
     "ename": "KeyboardInterrupt",
     "evalue": "",
     "output_type": "error",
     "traceback": [
      "\u001b[1;31m---------------------------------------------------------------------------\u001b[0m",
      "\u001b[1;31mKeyboardInterrupt\u001b[0m                         Traceback (most recent call last)",
      "Cell \u001b[1;32mIn[4], line 28\u001b[0m\n\u001b[0;32m     26\u001b[0m     all_data \u001b[38;5;241m=\u001b[39m pd\u001b[38;5;241m.\u001b[39mconcat([all_data, data])\n\u001b[0;32m     27\u001b[0m     \u001b[38;5;28mprint\u001b[39m(\u001b[38;5;124m\"\u001b[39m\u001b[38;5;124mSleeping for 2 sec...\u001b[39m\u001b[38;5;124m\"\u001b[39m)\n\u001b[1;32m---> 28\u001b[0m     \u001b[43mtime\u001b[49m\u001b[38;5;241;43m.\u001b[39;49m\u001b[43msleep\u001b[49m\u001b[43m(\u001b[49m\u001b[38;5;241;43m2\u001b[39;49m\u001b[43m)\u001b[49m\n\u001b[0;32m     31\u001b[0m \u001b[38;5;66;03m# Reset index and print\u001b[39;00m\n\u001b[0;32m     32\u001b[0m all_data \u001b[38;5;241m=\u001b[39m all_data\u001b[38;5;241m.\u001b[39mreset_index()\n",
      "\u001b[1;31mKeyboardInterrupt\u001b[0m: "
     ]
    }
   ],
   "source": [
    "# Function to fetch data in chunks\n",
    "def fetch_data(symbol, start_date, end_date):\n",
    "    return api.get_bars(symbol, timeframe, start=start_date, end=end_date, adjustment='raw').df\n",
    "\n",
    "# Date range chunks\n",
    "date_ranges = [\n",
    "    ('2015-01-01', '2015-12-31'),\n",
    "    ('2016-01-01', '2016-12-31'),\n",
    "    ('2017-01-01', '2017-12-31'),\n",
    "    ('2018-01-01', '2018-12-31'),\n",
    "    ('2019-01-01', '2019-12-31'),\n",
    "    ('2020-01-01', '2020-12-31'),\n",
    "    ('2021-01-01', '2021-12-31'),\n",
    "    ('2022-01-01', '2022-12-31'),\n",
    "    ('2023-01-01', '2023-12-31')\n",
    "]\n",
    "\n",
    "\n",
    "symbol = \"SPY\"\n",
    "timeframe = \"1Day\"\n",
    "\n",
    "# Fetch data for all ranges\n",
    "all_data = pd.DataFrame()\n",
    "for start, end in date_ranges:\n",
    "    data = fetch_data(symbol, start, end)\n",
    "    all_data = pd.concat([all_data, data])\n",
    "    print(\"Sleeping for 2 sec...\")\n",
    "    time.sleep(2)\n",
    "    \n",
    "\n",
    "# Reset index and print\n",
    "all_data = all_data.reset_index()\n",
    "print(all_data)"
   ]
  },
  {
   "cell_type": "code",
   "execution_count": 18,
   "id": "f1ac8496-68c3-4439-88af-201729e8c08b",
   "metadata": {},
   "outputs": [],
   "source": [
    "all_data.to_csv(\"market_data\", index=True)"
   ]
  },
  {
   "cell_type": "code",
   "execution_count": null,
   "id": "7549cce0-4ef5-48ce-848a-a65a03624fae",
   "metadata": {},
   "outputs": [],
   "source": [
    "# For getting data for multiple stocks"
   ]
  },
  {
   "cell_type": "code",
   "execution_count": 10,
   "id": "babe1073-2519-4821-92f4-f79edb81a362",
   "metadata": {},
   "outputs": [],
   "source": [
    "Symbols = [\n",
    "    'AAPL',\n",
    "    'MSFT',\n",
    "    'AMZN',\n",
    "    'TSLA',\n",
    "    'GOOGL',\n",
    "    'META',\n",
    "    'NVDA',\n",
    "    'NFLX'\n",
    "]"
   ]
  },
  {
   "cell_type": "code",
   "execution_count": 13,
   "id": "d8e0bbd8-2995-4e95-bf8f-b12f1b3695c7",
   "metadata": {
    "scrolled": true
   },
   "outputs": [
    {
     "name": "stdout",
     "output_type": "stream",
     "text": [
      "Sleeping for 2 sec...\n",
      "Sleeping for 2 sec...\n",
      "Sleeping for 2 sec...\n",
      "Sleeping for 2 sec...\n",
      "Sleeping for 2 sec...\n",
      "Sleeping for 2 sec...\n",
      "Sleeping for 2 sec...\n",
      "Sleeping for 2 sec...\n",
      "Sleeping for 2 sec...\n",
      "Finished doing AAPL\n",
      "Sleeping for 2 sec...\n",
      "Sleeping for 2 sec...\n",
      "Sleeping for 2 sec...\n",
      "Sleeping for 2 sec...\n",
      "Sleeping for 2 sec...\n",
      "Sleeping for 2 sec...\n",
      "Sleeping for 2 sec...\n",
      "Sleeping for 2 sec...\n",
      "Sleeping for 2 sec...\n",
      "Finished doing MSFT\n",
      "Sleeping for 2 sec...\n",
      "Sleeping for 2 sec...\n",
      "Sleeping for 2 sec...\n",
      "Sleeping for 2 sec...\n",
      "Sleeping for 2 sec...\n",
      "Sleeping for 2 sec...\n",
      "Sleeping for 2 sec...\n",
      "Sleeping for 2 sec...\n",
      "Sleeping for 2 sec...\n",
      "Finished doing AMZN\n",
      "Sleeping for 2 sec...\n",
      "Sleeping for 2 sec...\n",
      "Sleeping for 2 sec...\n",
      "Sleeping for 2 sec...\n",
      "Sleeping for 2 sec...\n",
      "Sleeping for 2 sec...\n",
      "Sleeping for 2 sec...\n",
      "Sleeping for 2 sec...\n",
      "Sleeping for 2 sec...\n",
      "Finished doing TSLA\n",
      "Sleeping for 2 sec...\n",
      "Sleeping for 2 sec...\n",
      "Sleeping for 2 sec...\n",
      "Sleeping for 2 sec...\n",
      "Sleeping for 2 sec...\n",
      "Sleeping for 2 sec...\n",
      "Sleeping for 2 sec...\n",
      "Sleeping for 2 sec...\n",
      "Sleeping for 2 sec...\n",
      "Finished doing GOOGL\n",
      "Sleeping for 2 sec...\n",
      "Sleeping for 2 sec...\n",
      "Sleeping for 2 sec...\n",
      "Sleeping for 2 sec...\n",
      "Sleeping for 2 sec...\n",
      "Sleeping for 2 sec...\n",
      "Sleeping for 2 sec...\n",
      "Sleeping for 2 sec...\n",
      "Sleeping for 2 sec...\n",
      "Finished doing META\n",
      "Sleeping for 2 sec...\n",
      "Sleeping for 2 sec...\n",
      "Sleeping for 2 sec...\n",
      "Sleeping for 2 sec...\n",
      "Sleeping for 2 sec...\n",
      "Sleeping for 2 sec...\n",
      "Sleeping for 2 sec...\n",
      "Sleeping for 2 sec...\n",
      "Sleeping for 2 sec...\n",
      "Finished doing NVDA\n",
      "Sleeping for 2 sec...\n",
      "Sleeping for 2 sec...\n",
      "Sleeping for 2 sec...\n",
      "Sleeping for 2 sec...\n",
      "Sleeping for 2 sec...\n",
      "Sleeping for 2 sec...\n",
      "Sleeping for 2 sec...\n",
      "Sleeping for 2 sec...\n",
      "Sleeping for 2 sec...\n",
      "Finished doing NFLX\n"
     ]
    }
   ],
   "source": [
    "for symbol in Symbols:\n",
    "    # Function to fetch data in chunks\n",
    "    def fetch_data(symbol, start_date, end_date):\n",
    "        return api.get_bars(symbol, timeframe, start=start_date, end=end_date, adjustment='raw').df\n",
    "    \n",
    "    # Date range chunks\n",
    "    date_ranges = [\n",
    "    ('2015-01-01', '2015-12-31'),\n",
    "    ('2016-01-01', '2016-03-31'),\n",
    "    ('2017-01-01', '2017-12-31'),\n",
    "    ('2018-01-01', '2018-12-31'),\n",
    "    ('2019-01-01', '2019-12-31'),\n",
    "    ('2020-01-01', '2020-12-31'),\n",
    "    ('2021-01-01', '2021-12-31'),\n",
    "    ('2022-01-01', '2022-12-31'),\n",
    "    ('2023-01-01', '2023-12-31')\n",
    "    ]\n",
    "    \n",
    "    \n",
    "    #symbol = \"SPY\"\n",
    "    timeframe = \"1Day\"\n",
    "    \n",
    "    # Fetch data for all ranges\n",
    "    all_data = pd.DataFrame()\n",
    "    for start, end in date_ranges:\n",
    "        data = fetch_data(symbol, start, end)\n",
    "        all_data = pd.concat([all_data, data])\n",
    "        print(\"Sleeping for 2 sec...\")\n",
    "        time.sleep(2)\n",
    "        \n",
    "    \n",
    "    # Reset index and print\n",
    "    all_data = all_data.reset_index()\n",
    "    all_data.to_csv(f\"../../../Data/Sentiment_anal_market_data/market_data_for_{symbol}\", index=True)\n",
    "    print(f\"Finished doing {symbol}\")"
   ]
  },
  {
   "cell_type": "code",
   "execution_count": null,
   "id": "0301a9d9-7765-42ee-8555-856bd122049e",
   "metadata": {},
   "outputs": [],
   "source": []
  },
  {
   "cell_type": "code",
   "execution_count": null,
   "id": "f3039750-8b2d-42dd-a2fd-27028f1590b1",
   "metadata": {},
   "outputs": [],
   "source": []
  },
  {
   "cell_type": "code",
   "execution_count": null,
   "id": "eeb6cbba-73ed-4e21-89eb-fe5f6242c27e",
   "metadata": {},
   "outputs": [],
   "source": []
  },
  {
   "cell_type": "code",
   "execution_count": null,
   "id": "da253d3d-479e-4fef-a535-8fa466d4bcc8",
   "metadata": {},
   "outputs": [],
   "source": []
  }
 ],
 "metadata": {
  "kernelspec": {
   "display_name": "Python 3 (ipykernel)",
   "language": "python",
   "name": "python3"
  },
  "language_info": {
   "codemirror_mode": {
    "name": "ipython",
    "version": 3
   },
   "file_extension": ".py",
   "mimetype": "text/x-python",
   "name": "python",
   "nbconvert_exporter": "python",
   "pygments_lexer": "ipython3",
   "version": "3.12.2"
  }
 },
 "nbformat": 4,
 "nbformat_minor": 5
}
