{
 "cells": [
  {
   "cell_type": "code",
   "execution_count": 1,
   "id": "3e3fb34f-77d9-4399-81d8-9ee1b328ed65",
   "metadata": {},
   "outputs": [],
   "source": [
    "#begin"
   ]
  },
  {
   "cell_type": "code",
   "execution_count": 2,
   "id": "7a9129bf-5c7a-4c54-b2f3-a6401302712a",
   "metadata": {},
   "outputs": [],
   "source": [
    "import pandas as pd\n",
    "import numpy as np\n",
    "from sklearn.preprocessing import MinMaxScaler\n",
    "from torch.utils.data import Dataset, DataLoader\n",
    "import torch\n",
    "import torch.nn as nn\n",
    "import matplotlib.pyplot as plt\n",
    "import os"
   ]
  },
  {
   "cell_type": "code",
   "execution_count": 3,
   "id": "72011822-d8b5-4a36-adcc-304a7e2c7497",
   "metadata": {},
   "outputs": [
    {
     "name": "stderr",
     "output_type": "stream",
     "text": [
      "[*********************100%%**********************]  1 of 1 completed"
     ]
    },
    {
     "name": "stdout",
     "output_type": "stream",
     "text": [
      "Data downloaded and saved to 'C:/Users/nimam/StonksMachine/Data/nasdaq_prices.csv'\n",
      "               Open     High      Low    Close  Adj Close   Volume\n",
      "Date                                                              \n",
      "2000-01-07  17.8125  17.8750  17.2500  17.3125  12.136868  1199900\n",
      "2000-01-10  17.4375  17.4375  17.2500  17.3125  12.136868   958200\n",
      "2000-01-11  17.4375  17.8125  17.2500  17.6250  12.355941  1914500\n",
      "2000-01-12  17.3750  17.5625  17.2500  17.3125  12.136868   936200\n",
      "2000-01-13  17.3125  17.6250  17.1875  17.1875  12.049242  1147800\n",
      "                 Open       High        Low      Close  Adj Close    Volume\n",
      "Date                                                                       \n",
      "2020-12-24  22.799999  23.040001  22.730000  22.900000  20.494333   4920100\n",
      "2020-12-28  23.520000  23.540001  22.799999  22.840000  20.440638  15946700\n",
      "2020-12-29  22.959999  23.280001  22.750000  22.910000  20.503281  14663900\n",
      "2020-12-30  22.969999  23.280001  22.850000  23.240000  20.798620  16046500\n",
      "2020-12-31  23.250000  23.270000  22.700001  22.780001  20.386936  18088000\n",
      "Index(['Open', 'High', 'Low', 'Close', 'Adj Close', 'Volume'], dtype='object')\n"
     ]
    },
    {
     "name": "stderr",
     "output_type": "stream",
     "text": [
      "\n"
     ]
    }
   ],
   "source": [
    "import yfinance as yf\n",
    "ticker = 'GOLD'  # NASDAQ Composite Index\n",
    "\n",
    "# Download historical data\n",
    "data = yf.download(ticker, start='2000-01-07', end='2021-01-01')\n",
    "\n",
    "# Save to CSV\n",
    "data.to_csv('C:/Users/nimam/StonksMachine/Data/nasdaq_prices.csv')\n",
    "\n",
    "print(\"Data downloaded and saved to 'C:/Users/nimam/StonksMachine/Data/nasdaq_prices.csv'\")\n",
    "print(data.head(5))  # first 5 rows\n",
    "\n",
    "#last few rows\n",
    "print(data.tail(5))  # Prints the last 5 rows by default\n",
    "\n",
    "print(data.columns)\n"
   ]
  },
  {
   "cell_type": "code",
   "execution_count": 4,
   "id": "a86eb1f0-014e-406e-a3fb-76e698c7661a",
   "metadata": {},
   "outputs": [
    {
     "name": "stderr",
     "output_type": "stream",
     "text": [
      "[*********************100%%**********************]  1 of 1 completed"
     ]
    },
    {
     "name": "stdout",
     "output_type": "stream",
     "text": [
      "Data downloaded and saved to 'C:/Users/nimam/StonksMachine/Data/Y_nasdaq_prices.csv'\n",
      "                 Open       High        Low      Close  Adj Close    Volume\n",
      "Date                                                                       \n",
      "2021-01-04  23.850000  24.799999  23.620001  24.620001  22.033646  41044700\n",
      "2021-01-05  24.930000  24.950001  24.090000  24.280001  21.729364  30884800\n",
      "2021-01-06  24.070000  24.570000  23.900000  24.500000  21.926252  30367800\n",
      "2021-01-07  24.540001  24.860001  24.250000  24.770000  22.167887  18996000\n",
      "2021-01-08  24.219999  24.370001  23.580000  23.969999  21.451929  25824800\n",
      "                 Open       High    Low      Close  Adj Close    Volume\n",
      "Date                                                                   \n",
      "2023-12-27  18.230000  18.540001  18.23  18.469999  18.235504  12681000\n",
      "2023-12-28  18.360001  18.420000  18.08  18.090000  17.860329  12089400\n",
      "2023-12-29  18.020000  18.100000  17.83  18.090000  17.860329  11945400\n",
      "2024-01-02  18.020000  18.230000  17.82  17.879999  17.652994  13275400\n",
      "2024-01-03  17.459999  17.820000  17.07  17.330000  17.109978  24485500\n",
      "Index(['Open', 'High', 'Low', 'Close', 'Adj Close', 'Volume'], dtype='object')\n"
     ]
    },
    {
     "name": "stderr",
     "output_type": "stream",
     "text": [
      "\n"
     ]
    }
   ],
   "source": [
    "# Download historical data for Y input\n",
    "y_data = yf.download(ticker, start='2021-01-04', end='2024-01-04')\n",
    "\n",
    "# Save to CSV\n",
    "y_data.to_csv('C:/Users/nimam/StonksMachine/Data/Y_nasdaq_prices.csv')\n",
    "\n",
    "print(\"Data downloaded and saved to 'C:/Users/nimam/StonksMachine/Data/Y_nasdaq_prices.csv'\")\n",
    "print(y_data.head(5))  # first 5 rows\n",
    "\n",
    "#last few rows\n",
    "print(y_data.tail(5))  # Prints the last 5 rows by default\n",
    "\n",
    "print(y_data.columns)"
   ]
  },
  {
   "cell_type": "code",
   "execution_count": 5,
   "id": "1b0884db-4631-4e20-8266-609d97e1e5eb",
   "metadata": {},
   "outputs": [
    {
     "name": "stdout",
     "output_type": "stream",
     "text": [
      "<class 'pandas.core.frame.DataFrame'>\n",
      "RangeIndex: 5280 entries, 0 to 5279\n",
      "Data columns (total 7 columns):\n",
      " #   Column     Non-Null Count  Dtype  \n",
      "---  ------     --------------  -----  \n",
      " 0   Date       5280 non-null   object \n",
      " 1   Open       5280 non-null   float64\n",
      " 2   High       5280 non-null   float64\n",
      " 3   Low        5280 non-null   float64\n",
      " 4   Close      5280 non-null   float64\n",
      " 5   Adj Close  5280 non-null   float64\n",
      " 6   Volume     5280 non-null   int64  \n",
      "dtypes: float64(5), int64(1), object(1)\n",
      "memory usage: 288.9+ KB\n",
      "None\n"
     ]
    }
   ],
   "source": [
    "# Display info about the DataFrame\n",
    "model_data = pd.read_csv('C:/Users/nimam/StonksMachine/Data/nasdaq_prices.csv', index_col=None)\n",
    "print(model_data.info())"
   ]
  },
  {
   "cell_type": "code",
   "execution_count": 6,
   "id": "a3868bb3-5f72-42ae-b665-ca636d71c852",
   "metadata": {},
   "outputs": [
    {
     "name": "stdout",
     "output_type": "stream",
     "text": [
      "<class 'pandas.core.frame.DataFrame'>\n",
      "RangeIndex: 755 entries, 0 to 754\n",
      "Data columns (total 7 columns):\n",
      " #   Column     Non-Null Count  Dtype  \n",
      "---  ------     --------------  -----  \n",
      " 0   Date       755 non-null    object \n",
      " 1   Open       755 non-null    float64\n",
      " 2   High       755 non-null    float64\n",
      " 3   Low        755 non-null    float64\n",
      " 4   Close      755 non-null    float64\n",
      " 5   Adj Close  755 non-null    float64\n",
      " 6   Volume     755 non-null    int64  \n",
      "dtypes: float64(5), int64(1), object(1)\n",
      "memory usage: 41.4+ KB\n",
      "None\n"
     ]
    }
   ],
   "source": [
    "y_model_data = pd.read_csv('C:/Users/nimam/StonksMachine/Data/Y_nasdaq_prices.csv', index_col=None)\n",
    "print(y_model_data.info())"
   ]
  },
  {
   "cell_type": "code",
   "execution_count": 7,
   "id": "2b9a3f64-7a52-4462-b286-a846841657b3",
   "metadata": {},
   "outputs": [
    {
     "name": "stdout",
     "output_type": "stream",
     "text": [
      "               Open     High      Low    Close  Adj Close   Volume\n",
      "Date                                                              \n",
      "2000-01-07  17.8125  17.8750  17.2500  17.3125  12.136868  1199900\n",
      "2000-01-10  17.4375  17.4375  17.2500  17.3125  12.136868   958200\n",
      "2000-01-11  17.4375  17.8125  17.2500  17.6250  12.355941  1914500\n",
      "2000-01-12  17.3750  17.5625  17.2500  17.3125  12.136868   936200\n",
      "2000-01-13  17.3125  17.6250  17.1875  17.1875  12.049242  1147800\n"
     ]
    }
   ],
   "source": [
    "model_data['Date'] = pd.to_datetime(model_data['Date'])\n",
    "model_data.set_index('Date', inplace=True)\n",
    "\n",
    "print(model_data.head())\n",
    "\n"
   ]
  },
  {
   "cell_type": "code",
   "execution_count": 8,
   "id": "086dfc60-77c7-494e-b7a1-aa4931ea9507",
   "metadata": {},
   "outputs": [
    {
     "name": "stdout",
     "output_type": "stream",
     "text": [
      "                 Open       High        Low      Close  Adj Close    Volume\n",
      "Date                                                                       \n",
      "2021-01-04  23.850000  24.799999  23.620001  24.620001  22.033646  41044700\n",
      "2021-01-05  24.930000  24.950001  24.090000  24.280001  21.729364  30884800\n",
      "2021-01-06  24.070000  24.570000  23.900000  24.500000  21.926252  30367800\n",
      "2021-01-07  24.540001  24.860001  24.250000  24.770000  22.167887  18996000\n",
      "2021-01-08  24.219999  24.370001  23.580000  23.969999  21.451929  25824800\n"
     ]
    }
   ],
   "source": [
    "y_model_data['Date'] = pd.to_datetime(y_model_data['Date'])\n",
    "y_model_data.set_index('Date', inplace=True)\n",
    "\n",
    "print(y_model_data.head())"
   ]
  },
  {
   "cell_type": "code",
   "execution_count": 9,
   "id": "4c24c4f9-e3c7-4128-a8ef-6f91c0c1d9dd",
   "metadata": {},
   "outputs": [
    {
     "name": "stdout",
     "output_type": "stream",
     "text": [
      "Open         0\n",
      "High         0\n",
      "Low          0\n",
      "Close        0\n",
      "Adj Close    0\n",
      "Volume       0\n",
      "dtype: int64\n",
      "               Open     High      Low    Close  Adj Close     Volume\n",
      "2000-01-07  17.8125  17.8750  17.2500  17.3125  12.136868  1199900.0\n",
      "2000-01-08  17.8125  17.8750  17.2500  17.3125  12.136868  1199900.0\n",
      "2000-01-09  17.8125  17.8750  17.2500  17.3125  12.136868  1199900.0\n",
      "2000-01-10  17.4375  17.4375  17.2500  17.3125  12.136868   958200.0\n",
      "2000-01-11  17.4375  17.8125  17.2500  17.6250  12.355941  1914500.0\n",
      "2000-01-12  17.3750  17.5625  17.2500  17.3125  12.136868   936200.0\n",
      "2000-01-13  17.3125  17.6250  17.1875  17.1875  12.049242  1147800.0\n",
      "2000-01-14  17.1250  17.1875  16.9375  16.9375  11.873974  1610400.0\n",
      "2000-01-15  17.1250  17.1875  16.9375  16.9375  11.873974  1610400.0\n",
      "2000-01-16  17.1250  17.1875  16.9375  16.9375  11.873974  1610400.0\n"
     ]
    }
   ],
   "source": [
    "all_dates = pd.date_range(start=model_data.index.min(), end=model_data.index.max(), freq='D') \n",
    "\n",
    "model_data = model_data.reindex(all_dates)\n",
    "\n",
    "model_data.ffill(inplace=True)\n",
    "\n",
    "print(model_data.isna().sum())\n",
    "print(model_data.head(10))"
   ]
  },
  {
   "cell_type": "code",
   "execution_count": 10,
   "id": "2978a094-2c83-4ef1-b3c8-6734d2adcd2e",
   "metadata": {},
   "outputs": [
    {
     "name": "stdout",
     "output_type": "stream",
     "text": [
      "        Date     Open     High      Low    Close  Adj Close     Volume\n",
      "0 2000-01-07  17.8125  17.8750  17.2500  17.3125  12.136868  1199900.0\n",
      "1 2000-01-08  17.8125  17.8750  17.2500  17.3125  12.136868  1199900.0\n",
      "2 2000-01-09  17.8125  17.8750  17.2500  17.3125  12.136868  1199900.0\n",
      "3 2000-01-10  17.4375  17.4375  17.2500  17.3125  12.136868   958200.0\n",
      "4 2000-01-11  17.4375  17.8125  17.2500  17.6250  12.355941  1914500.0\n",
      "5 2000-01-12  17.3750  17.5625  17.2500  17.3125  12.136868   936200.0\n",
      "6 2000-01-13  17.3125  17.6250  17.1875  17.1875  12.049242  1147800.0\n",
      "7 2000-01-14  17.1250  17.1875  16.9375  16.9375  11.873974  1610400.0\n",
      "8 2000-01-15  17.1250  17.1875  16.9375  16.9375  11.873974  1610400.0\n",
      "9 2000-01-16  17.1250  17.1875  16.9375  16.9375  11.873974  1610400.0\n"
     ]
    }
   ],
   "source": [
    "model_data = model_data.reset_index()\n",
    "model_data.rename(columns={'index': 'Date'}, inplace=True)\n",
    "#model_data.reset_index(drop=True, inplace=True)\n",
    "print(model_data.head(10))"
   ]
  },
  {
   "cell_type": "code",
   "execution_count": 11,
   "id": "8d0f28f0-bfba-43d9-8c4c-cec1d554aff1",
   "metadata": {},
   "outputs": [
    {
     "name": "stdout",
     "output_type": "stream",
     "text": [
      "      Open     High      Low    Close  Adj Close     Volume    year  month  \\\n",
      "0  17.8125  17.8750  17.2500  17.3125  12.136868  1199900.0  2000.0    1.0   \n",
      "1  17.8125  17.8750  17.2500  17.3125  12.136868  1199900.0  2000.0    1.0   \n",
      "2  17.8125  17.8750  17.2500  17.3125  12.136868  1199900.0  2000.0    1.0   \n",
      "3  17.4375  17.4375  17.2500  17.3125  12.136868   958200.0  2000.0    1.0   \n",
      "4  17.4375  17.8125  17.2500  17.6250  12.355941  1914500.0  2000.0    1.0   \n",
      "5  17.3750  17.5625  17.2500  17.3125  12.136868   936200.0  2000.0    1.0   \n",
      "6  17.3125  17.6250  17.1875  17.1875  12.049242  1147800.0  2000.0    1.0   \n",
      "7  17.1250  17.1875  16.9375  16.9375  11.873974  1610400.0  2000.0    1.0   \n",
      "8  17.1250  17.1875  16.9375  16.9375  11.873974  1610400.0  2000.0    1.0   \n",
      "9  17.1250  17.1875  16.9375  16.9375  11.873974  1610400.0  2000.0    1.0   \n",
      "\n",
      "    day  day_of_week  \n",
      "0   7.0            4  \n",
      "1   8.0            5  \n",
      "2   9.0            6  \n",
      "3  10.0            0  \n",
      "4  11.0            1  \n",
      "5  12.0            2  \n",
      "6  13.0            3  \n",
      "7  14.0            4  \n",
      "8  15.0            5  \n",
      "9  16.0            6  \n",
      "           Open       High        Low      Close  Adj Close      Volume  \\\n",
      "7655  23.000000  23.049999  22.260000  22.520000  20.154257  19820200.0   \n",
      "7656  22.620001  23.030001  22.559999  22.830000  20.431686  11737800.0   \n",
      "7657  22.799999  23.040001  22.730000  22.900000  20.494333   4920100.0   \n",
      "7658  22.799999  23.040001  22.730000  22.900000  20.494333   4920100.0   \n",
      "7659  22.799999  23.040001  22.730000  22.900000  20.494333   4920100.0   \n",
      "7660  22.799999  23.040001  22.730000  22.900000  20.494333   4920100.0   \n",
      "7661  23.520000  23.540001  22.799999  22.840000  20.440638  15946700.0   \n",
      "7662  22.959999  23.280001  22.750000  22.910000  20.503281  14663900.0   \n",
      "7663  22.969999  23.280001  22.850000  23.240000  20.798620  16046500.0   \n",
      "7664  23.250000  23.270000  22.700001  22.780001  20.386936  18088000.0   \n",
      "\n",
      "        year  month   day  day_of_week  \n",
      "7655  2020.0   12.0  22.0            1  \n",
      "7656  2020.0   12.0  23.0            2  \n",
      "7657  2020.0   12.0  24.0            3  \n",
      "7658  2020.0   12.0  25.0            4  \n",
      "7659  2020.0   12.0  26.0            5  \n",
      "7660  2020.0   12.0  27.0            6  \n",
      "7661  2020.0   12.0  28.0            0  \n",
      "7662  2020.0   12.0  29.0            1  \n",
      "7663  2020.0   12.0  30.0            2  \n",
      "7664  2020.0   12.0  31.0            3  \n"
     ]
    }
   ],
   "source": [
    "#convert date column to year, month, and day\n",
    "model_data['year'] = model_data['Date'].dt.year.astype('float64')\n",
    "model_data['month'] = model_data['Date'].dt.month.astype('float64')\n",
    "model_data['day'] = model_data['Date'].dt.day.astype('float64')\n",
    "model_data['day_of_week'] = model_data['Date'].dt.dayofweek\n",
    "model_data = model_data.drop(columns=['Date'])\n",
    "\n",
    "print(model_data.head(10))\n",
    "print(model_data.tail(10))"
   ]
  },
  {
   "cell_type": "code",
   "execution_count": 12,
   "id": "7dbd953c-8f1f-45a1-98d9-61fe731438be",
   "metadata": {},
   "outputs": [
    {
     "name": "stdout",
     "output_type": "stream",
     "text": [
      "Open         0\n",
      "High         0\n",
      "Low          0\n",
      "Close        0\n",
      "Adj Close    0\n",
      "Volume       0\n",
      "dtype: int64\n",
      "                 Open       High        Low      Close  Adj Close    Volume\n",
      "Date                                                                       \n",
      "2021-01-04  23.850000  24.799999  23.620001  24.620001  22.033646  41044700\n",
      "2021-01-05  24.930000  24.950001  24.090000  24.280001  21.729364  30884800\n",
      "2021-01-06  24.070000  24.570000  23.900000  24.500000  21.926252  30367800\n",
      "2021-01-07  24.540001  24.860001  24.250000  24.770000  22.167887  18996000\n",
      "2021-01-08  24.219999  24.370001  23.580000  23.969999  21.451929  25824800\n",
      "2021-01-11  23.530001  23.780001  23.440001  23.520000  21.049204  21563700\n",
      "2021-01-12  23.590000  23.670000  23.200001  23.540001  21.067104  22550300\n",
      "2021-01-13  23.600000  23.900000  23.490000  23.600000  21.120798  17298500\n",
      "2021-01-14  23.570000  23.910000  23.540001  23.680000  21.192392  15120900\n",
      "2021-01-15  23.580000  23.730000  23.110001  23.139999  20.709122  16309900\n",
      "Open         0\n",
      "High         0\n",
      "Low          0\n",
      "Close        0\n",
      "Adj Close    0\n",
      "Volume       0\n",
      "dtype: int64\n",
      "                 Open       High        Low      Close  Adj Close      Volume\n",
      "2021-01-04  23.850000  24.799999  23.620001  24.620001  22.033646  41044700.0\n",
      "2021-01-05  24.930000  24.950001  24.090000  24.280001  21.729364  30884800.0\n",
      "2021-01-06  24.070000  24.570000  23.900000  24.500000  21.926252  30367800.0\n",
      "2021-01-07  24.540001  24.860001  24.250000  24.770000  22.167887  18996000.0\n",
      "2021-01-08  24.219999  24.370001  23.580000  23.969999  21.451929  25824800.0\n",
      "2021-01-09  24.219999  24.370001  23.580000  23.969999  21.451929  25824800.0\n",
      "2021-01-10  24.219999  24.370001  23.580000  23.969999  21.451929  25824800.0\n",
      "2021-01-11  23.530001  23.780001  23.440001  23.520000  21.049204  21563700.0\n",
      "2021-01-12  23.590000  23.670000  23.200001  23.540001  21.067104  22550300.0\n",
      "2021-01-13  23.600000  23.900000  23.490000  23.600000  21.120798  17298500.0\n"
     ]
    }
   ],
   "source": [
    "print(y_model_data.isna().sum())\n",
    "print(y_model_data.head(10))\n",
    "y_all_dates = pd.date_range(start=y_model_data.index.min(), end=y_model_data.index.max(), freq='D') \n",
    "\n",
    "y_model_data = y_model_data.reindex(y_all_dates)\n",
    "\n",
    "y_model_data.ffill(inplace=True)\n",
    "\n",
    "print(y_model_data.isna().sum())\n",
    "print(y_model_data.head(10))"
   ]
  },
  {
   "cell_type": "code",
   "execution_count": 13,
   "id": "9f999589-6f8d-47a2-b072-bedcc22f20c4",
   "metadata": {},
   "outputs": [
    {
     "name": "stdout",
     "output_type": "stream",
     "text": [
      "        Date       Open       High        Low      Close  Adj Close  \\\n",
      "0 2021-01-04  23.850000  24.799999  23.620001  24.620001  22.033646   \n",
      "1 2021-01-05  24.930000  24.950001  24.090000  24.280001  21.729364   \n",
      "2 2021-01-06  24.070000  24.570000  23.900000  24.500000  21.926252   \n",
      "3 2021-01-07  24.540001  24.860001  24.250000  24.770000  22.167887   \n",
      "4 2021-01-08  24.219999  24.370001  23.580000  23.969999  21.451929   \n",
      "5 2021-01-09  24.219999  24.370001  23.580000  23.969999  21.451929   \n",
      "6 2021-01-10  24.219999  24.370001  23.580000  23.969999  21.451929   \n",
      "7 2021-01-11  23.530001  23.780001  23.440001  23.520000  21.049204   \n",
      "8 2021-01-12  23.590000  23.670000  23.200001  23.540001  21.067104   \n",
      "9 2021-01-13  23.600000  23.900000  23.490000  23.600000  21.120798   \n",
      "\n",
      "       Volume  \n",
      "0  41044700.0  \n",
      "1  30884800.0  \n",
      "2  30367800.0  \n",
      "3  18996000.0  \n",
      "4  25824800.0  \n",
      "5  25824800.0  \n",
      "6  25824800.0  \n",
      "7  21563700.0  \n",
      "8  22550300.0  \n",
      "9  17298500.0  \n"
     ]
    }
   ],
   "source": [
    "y_model_data = y_model_data.reset_index()\n",
    "y_model_data.rename(columns={'index': 'Date'}, inplace=True)\n",
    "#model_data.reset_index(drop=True, inplace=True)\n",
    "print(y_model_data.head(10))"
   ]
  },
  {
   "cell_type": "code",
   "execution_count": 14,
   "id": "884cd4ed-c6b2-4198-86d7-9eceeaff303b",
   "metadata": {},
   "outputs": [
    {
     "name": "stdout",
     "output_type": "stream",
     "text": [
      "        Open       High        Low      Close  Adj Close      Volume    year  \\\n",
      "0  23.850000  24.799999  23.620001  24.620001  22.033646  41044700.0  2021.0   \n",
      "1  24.930000  24.950001  24.090000  24.280001  21.729364  30884800.0  2021.0   \n",
      "2  24.070000  24.570000  23.900000  24.500000  21.926252  30367800.0  2021.0   \n",
      "3  24.540001  24.860001  24.250000  24.770000  22.167887  18996000.0  2021.0   \n",
      "4  24.219999  24.370001  23.580000  23.969999  21.451929  25824800.0  2021.0   \n",
      "5  24.219999  24.370001  23.580000  23.969999  21.451929  25824800.0  2021.0   \n",
      "6  24.219999  24.370001  23.580000  23.969999  21.451929  25824800.0  2021.0   \n",
      "7  23.530001  23.780001  23.440001  23.520000  21.049204  21563700.0  2021.0   \n",
      "8  23.590000  23.670000  23.200001  23.540001  21.067104  22550300.0  2021.0   \n",
      "9  23.600000  23.900000  23.490000  23.600000  21.120798  17298500.0  2021.0   \n",
      "\n",
      "   month   day  day_of_week  \n",
      "0    1.0   4.0            0  \n",
      "1    1.0   5.0            1  \n",
      "2    1.0   6.0            2  \n",
      "3    1.0   7.0            3  \n",
      "4    1.0   8.0            4  \n",
      "5    1.0   9.0            5  \n",
      "6    1.0  10.0            6  \n",
      "7    1.0  11.0            0  \n",
      "8    1.0  12.0            1  \n",
      "9    1.0  13.0            2  \n"
     ]
    }
   ],
   "source": [
    "#convert date column to year, month, and day\n",
    "y_model_data['year'] = y_model_data['Date'].dt.year.astype('float64')\n",
    "y_model_data['month'] = y_model_data['Date'].dt.month.astype('float64')\n",
    "y_model_data['day'] = y_model_data['Date'].dt.day.astype('float64')\n",
    "y_model_data['day_of_week'] = y_model_data['Date'].dt.dayofweek\n",
    "y_model_data = y_model_data.drop(columns=['Date'])\n",
    "print(y_model_data.head(10))"
   ]
  },
  {
   "cell_type": "code",
   "execution_count": 15,
   "id": "91d99afb-a8b2-4a16-91ec-2c2dfc8c5bf1",
   "metadata": {
    "scrolled": true
   },
   "outputs": [
    {
     "name": "stdout",
     "output_type": "stream",
     "text": [
      "          Open      High       Low     Close    year  month   day  day_of_week\n",
      "0     0.237212  0.234212  0.230582  0.228869  2000.0    1.0   7.0            4\n",
      "1     0.237212  0.234212  0.230582  0.228869  2000.0    1.0   8.0            5\n",
      "2     0.237212  0.234212  0.230582  0.228869  2000.0    1.0   9.0            6\n",
      "3     0.229630  0.225412  0.230582  0.228869  2000.0    1.0  10.0            0\n",
      "4     0.229630  0.232955  0.230582  0.235158  2000.0    1.0  11.0            1\n",
      "...        ...       ...       ...       ...     ...    ...   ...          ...\n",
      "7660  0.338051  0.338093  0.342009  0.341316  2020.0   12.0  27.0            6\n",
      "7661  0.352608  0.348150  0.343432  0.340109  2020.0   12.0  28.0            0\n",
      "7662  0.341286  0.342920  0.342416  0.341517  2020.0   12.0  29.0            1\n",
      "7663  0.341488  0.342920  0.344449  0.348159  2020.0   12.0  30.0            2\n",
      "7664  0.347149  0.342719  0.341399  0.338901  2020.0   12.0  31.0            3\n",
      "\n",
      "[7665 rows x 8 columns]\n"
     ]
    }
   ],
   "source": [
    "# only saling the features and not dates \n",
    "features = ['Open', 'High', 'Low', 'Close']\n",
    "non_features = ['year', 'month', 'day', 'day_of_week']\n",
    "scalers = {col: MinMaxScaler() for col in features}\n",
    "scaled_data = pd.DataFrame(index=model_data.index)\n",
    "for col in features:\n",
    "    scaled_data[col] = scalers[col].fit_transform(model_data[[col]])\n",
    "\n",
    "\n",
    "scaled_data = pd.concat([scaled_data, model_data[non_features]], axis=1)\n",
    "print(scaled_data)"
   ]
  },
  {
   "cell_type": "code",
   "execution_count": 16,
   "id": "5424d470-e1fd-4d93-9a28-87ca0b20d5a0",
   "metadata": {},
   "outputs": [
    {
     "name": "stdout",
     "output_type": "stream",
     "text": [
      "          Open      High       Low     Close    year  month   day  day_of_week\n",
      "0     0.843724  0.892646  0.854267  0.923077  2021.0    1.0   4.0            0\n",
      "1     0.933500  0.905326  0.892109  0.895833  2021.0    1.0   5.0            1\n",
      "2     0.862012  0.873204  0.876812  0.913462  2021.0    1.0   6.0            2\n",
      "3     0.901081  0.897718  0.904992  0.935096  2021.0    1.0   7.0            3\n",
      "4     0.874480  0.856298  0.851047  0.870994  2021.0    1.0   8.0            4\n",
      "...        ...       ...       ...       ...     ...    ...   ...          ...\n",
      "1090  0.359102  0.326289  0.388084  0.399840  2023.0   12.0  30.0            5\n",
      "1091  0.359102  0.326289  0.388084  0.399840  2023.0   12.0  31.0            6\n",
      "1092  0.359102  0.326289  0.388084  0.399840  2024.0    1.0   1.0            0\n",
      "1093  0.359102  0.337278  0.387279  0.383013  2024.0    1.0   2.0            1\n",
      "1094  0.312552  0.302620  0.326892  0.338942  2024.0    1.0   3.0            2\n",
      "\n",
      "[1095 rows x 8 columns]\n"
     ]
    }
   ],
   "source": [
    "# only saling the features and not dates again lol\n",
    "y_scaled_data = pd.DataFrame(index=y_model_data.index)\n",
    "for col in features:\n",
    "    y_scaled_data[col] = scalers[col].fit_transform(y_model_data[[col]])\n",
    "\n",
    "\n",
    "y_scaled_data = pd.concat([y_scaled_data, y_model_data[non_features]], axis=1)\n",
    "print(y_scaled_data)"
   ]
  },
  {
   "cell_type": "code",
   "execution_count": 34,
   "id": "fdfe2f7b-bdb9-45db-bd1b-cef336bb00c0",
   "metadata": {},
   "outputs": [
    {
     "name": "stdout",
     "output_type": "stream",
     "text": [
      "y_results DataFrame:\n",
      "          Open      High       Low     Close    year  month   day  day_of_week\n",
      "0     0.843724  0.892646  0.854267  0.923077  2021.0    1.0   4.0            0\n",
      "1     0.817124  0.806424  0.839775  0.834936  2021.0    1.0  11.0            0\n",
      "2     0.821280  0.802198  0.813205  0.804487  2021.0    1.0  18.0            0\n",
      "3     0.822943  0.804734  0.821256  0.828526  2021.0    1.0  25.0            0\n",
      "4     0.767249  0.737954  0.735105  0.756410  2021.0    2.0   1.0            0\n",
      "...        ...       ...       ...       ...     ...    ...   ...          ...\n",
      "1090  0.320864  0.300085  0.362319  0.370994  2023.0   12.0   3.0            6\n",
      "1091  0.263508  0.235841  0.294686  0.295673  2023.0   12.0  10.0            6\n",
      "1092  0.322527  0.288250  0.354267  0.353365  2023.0   12.0  17.0            6\n",
      "1093  0.382377  0.364328  0.414654  0.405449  2023.0   12.0  24.0            6\n",
      "1094  0.359102  0.326289  0.388084  0.399840  2023.0   12.0  31.0            6\n",
      "\n",
      "[1095 rows x 8 columns]\n",
      "y_df DataFrame:\n",
      "            0         1        2         3         4         5         6      \\\n",
      "Open_0   0.843724  0.817124  0.82128  0.822943  0.767249  0.742311  0.695761   \n",
      "High_0        NaN       NaN      NaN       NaN       NaN       NaN       NaN   \n",
      "Low_0         NaN       NaN      NaN       NaN       NaN       NaN       NaN   \n",
      "Close_0       NaN       NaN      NaN       NaN       NaN       NaN       NaN   \n",
      "Open_1        NaN       NaN      NaN       NaN       NaN       NaN       NaN   \n",
      "High_1        NaN       NaN      NaN       NaN       NaN       NaN       NaN   \n",
      "Low_1         NaN       NaN      NaN       NaN       NaN       NaN       NaN   \n",
      "Close_1       NaN       NaN      NaN       NaN       NaN       NaN       NaN   \n",
      "Open_2        NaN       NaN      NaN       NaN       NaN       NaN       NaN   \n",
      "High_2        NaN       NaN      NaN       NaN       NaN       NaN       NaN   \n",
      "Low_2         NaN       NaN      NaN       NaN       NaN       NaN       NaN   \n",
      "Close_2       NaN       NaN      NaN       NaN       NaN       NaN       NaN   \n",
      "Open_3        NaN       NaN      NaN       NaN       NaN       NaN       NaN   \n",
      "High_3        NaN       NaN      NaN       NaN       NaN       NaN       NaN   \n",
      "Low_3         NaN       NaN      NaN       NaN       NaN       NaN       NaN   \n",
      "Close_3       NaN       NaN      NaN       NaN       NaN       NaN       NaN   \n",
      "Open_4        NaN       NaN      NaN       NaN       NaN       NaN       NaN   \n",
      "High_4        NaN       NaN      NaN       NaN       NaN       NaN       NaN   \n",
      "Low_4         NaN       NaN      NaN       NaN       NaN       NaN       NaN   \n",
      "Close_4       NaN       NaN      NaN       NaN       NaN       NaN       NaN   \n",
      "Open_5        NaN       NaN      NaN       NaN       NaN       NaN       NaN   \n",
      "High_5        NaN       NaN      NaN       NaN       NaN       NaN       NaN   \n",
      "Low_5         NaN       NaN      NaN       NaN       NaN       NaN       NaN   \n",
      "Close_5       NaN       NaN      NaN       NaN       NaN       NaN       NaN   \n",
      "Open_6        NaN       NaN      NaN       NaN       NaN       NaN       NaN   \n",
      "High_6        NaN       NaN      NaN       NaN       NaN       NaN       NaN   \n",
      "Low_6         NaN       NaN      NaN       NaN       NaN       NaN       NaN   \n",
      "Close_6       NaN       NaN      NaN       NaN       NaN       NaN       NaN   \n",
      "\n",
      "            7         8         9      ...     30650     30651     30652  \\\n",
      "Open_0   0.523691  0.440565  0.509559  ...  0.210308  0.207814  0.121363   \n",
      "High_0        NaN       NaN       NaN  ...  0.184277  0.196957  0.083686   \n",
      "Low_0         NaN       NaN       NaN  ...  0.227858  0.250403  0.161031   \n",
      "Close_0       NaN       NaN       NaN  ...  0.258814  0.270833  0.169872   \n",
      "Open_1        NaN       NaN       NaN  ...  0.210308  0.207814  0.121363   \n",
      "High_1        NaN       NaN       NaN  ...  0.184277  0.196957  0.083686   \n",
      "Low_1         NaN       NaN       NaN  ...  0.227858  0.250403  0.161031   \n",
      "Close_1       NaN       NaN       NaN  ...  0.258814  0.270833  0.169872   \n",
      "Open_2        NaN       NaN       NaN  ...  0.210308  0.207814  0.121363   \n",
      "High_2        NaN       NaN       NaN  ...  0.184277  0.196957  0.083686   \n",
      "Low_2         NaN       NaN       NaN  ...  0.227858  0.250403  0.161031   \n",
      "Close_2       NaN       NaN       NaN  ...  0.258814  0.270833  0.169872   \n",
      "Open_3        NaN       NaN       NaN  ...  0.210308  0.207814  0.121363   \n",
      "High_3        NaN       NaN       NaN  ...  0.184277  0.196957  0.083686   \n",
      "Low_3         NaN       NaN       NaN  ...  0.227858  0.250403  0.161031   \n",
      "Close_3       NaN       NaN       NaN  ...  0.258814  0.270833  0.169872   \n",
      "Open_4        NaN       NaN       NaN  ...  0.210308  0.207814  0.121363   \n",
      "High_4        NaN       NaN       NaN  ...  0.184277  0.196957  0.083686   \n",
      "Low_4         NaN       NaN       NaN  ...  0.227858  0.250403  0.161031   \n",
      "Close_4       NaN       NaN       NaN  ...  0.258814  0.270833  0.169872   \n",
      "Open_5        NaN       NaN       NaN  ...  0.210308  0.207814  0.121363   \n",
      "High_5        NaN       NaN       NaN  ...  0.184277  0.196957  0.083686   \n",
      "Low_5         NaN       NaN       NaN  ...  0.227858  0.250403  0.161031   \n",
      "Close_5       NaN       NaN       NaN  ...  0.258814  0.270833  0.169872   \n",
      "Open_6        NaN       NaN       NaN  ...  0.210308  0.207814  0.121363   \n",
      "High_6        NaN       NaN       NaN  ...  0.184277  0.196957  0.083686   \n",
      "Low_6         NaN       NaN       NaN  ...  0.227858  0.250403  0.161031   \n",
      "Close_6       NaN       NaN       NaN  ...  0.258814  0.270833  0.169872   \n",
      "\n",
      "            30653     30654     30655     30656     30657     30658     30659  \n",
      "Open_0   0.197839  0.214464  0.320864  0.263508  0.322527  0.382377  0.359102  \n",
      "High_0   0.155537  0.177515  0.300085  0.235841  0.288250  0.364328  0.326289  \n",
      "Low_0    0.215781  0.249597  0.362319  0.294686  0.354267  0.414654  0.388084  \n",
      "Close_0  0.209135  0.250801  0.370994  0.295673  0.353365  0.405449  0.399840  \n",
      "Open_1   0.197839  0.214464  0.320864  0.263508  0.322527  0.382377  0.359102  \n",
      "High_1   0.155537  0.177515  0.300085  0.235841  0.288250  0.364328  0.326289  \n",
      "Low_1    0.215781  0.249597  0.362319  0.294686  0.354267  0.414654  0.388084  \n",
      "Close_1  0.209135  0.250801  0.370994  0.295673  0.353365  0.405449  0.399840  \n",
      "Open_2   0.197839  0.214464  0.320864  0.263508  0.322527  0.382377  0.359102  \n",
      "High_2   0.155537  0.177515  0.300085  0.235841  0.288250  0.364328  0.326289  \n",
      "Low_2    0.215781  0.249597  0.362319  0.294686  0.354267  0.414654  0.388084  \n",
      "Close_2  0.209135  0.250801  0.370994  0.295673  0.353365  0.405449  0.399840  \n",
      "Open_3   0.197839  0.214464  0.320864  0.263508  0.322527  0.382377  0.359102  \n",
      "High_3   0.155537  0.177515  0.300085  0.235841  0.288250  0.364328  0.326289  \n",
      "Low_3    0.215781  0.249597  0.362319  0.294686  0.354267  0.414654  0.388084  \n",
      "Close_3  0.209135  0.250801  0.370994  0.295673  0.353365  0.405449  0.399840  \n",
      "Open_4   0.197839  0.214464  0.320864  0.263508  0.322527  0.382377  0.359102  \n",
      "High_4   0.155537  0.177515  0.300085  0.235841  0.288250  0.364328  0.326289  \n",
      "Low_4    0.215781  0.249597  0.362319  0.294686  0.354267  0.414654  0.388084  \n",
      "Close_4  0.209135  0.250801  0.370994  0.295673  0.353365  0.405449  0.399840  \n",
      "Open_5   0.197839  0.214464  0.320864  0.263508  0.322527  0.382377  0.359102  \n",
      "High_5   0.155537  0.177515  0.300085  0.235841  0.288250  0.364328  0.326289  \n",
      "Low_5    0.215781  0.249597  0.362319  0.294686  0.354267  0.414654  0.388084  \n",
      "Close_5  0.209135  0.250801  0.370994  0.295673  0.353365  0.405449  0.399840  \n",
      "Open_6   0.197839  0.214464  0.320864  0.263508  0.322527  0.382377  0.359102  \n",
      "High_6   0.155537  0.177515  0.300085  0.235841  0.288250  0.364328  0.326289  \n",
      "Low_6    0.215781  0.249597  0.362319  0.294686  0.354267  0.414654  0.388084  \n",
      "Close_6  0.209135  0.250801  0.370994  0.295673  0.353365  0.405449  0.399840  \n",
      "\n",
      "[28 rows x 30660 columns]\n",
      "X_df DataFrame:\n",
      "          Open      High       Low     Close    year  month   day  day_of_week\n",
      "3     0.229630  0.225412  0.230582  0.228869  2000.0    1.0  10.0            0\n",
      "10    0.223312  0.220384  0.224227  0.221322  2000.0    1.0  17.0            0\n",
      "17    0.219521  0.216613  0.214061  0.213775  2000.0    1.0  24.0            0\n",
      "24    0.208148  0.207814  0.210248  0.210002  2000.0    1.0  31.0            0\n",
      "31    0.261221  0.271923  0.239477  0.240189  2000.0    2.0   7.0            0\n",
      "...        ...       ...       ...       ...     ...    ...   ...          ...\n",
      "7632  0.332188  0.331657  0.331639  0.337090  2020.0   11.0  29.0            6\n",
      "7639  0.357258  0.353379  0.352379  0.353391  2020.0   12.0   6.0            6\n",
      "7646  0.343712  0.343524  0.344246  0.341316  2020.0   12.0  13.0            6\n",
      "7653  0.356045  0.351167  0.352786  0.348762  2020.0   12.0  20.0            6\n",
      "7660  0.338051  0.338093  0.342009  0.341316  2020.0   12.0  27.0            6\n",
      "\n",
      "[7665 rows x 8 columns]\n"
     ]
    }
   ],
   "source": [
    "# Create empty DataFrames for X and y\n",
    "X_df = pd.DataFrame()\n",
    "y_df = pd.DataFrame()\n",
    "\n",
    "for j in range(1, 4):\n",
    "    current_year = int(scaled_data['year'].max())\n",
    "    recent_years = [current_year - i for i in range(j, j + 21)]  # Past 21 years\n",
    "    \n",
    "\n",
    "    \n",
    "    days_of_week = y_scaled_data['day_of_week'].unique().astype(int)\n",
    "    \n",
    "    \n",
    "    # Build y data\n",
    "    y_feature_avg = pd.DataFrame()\n",
    "    y_feature = pd.DataFrame()\n",
    "    y_results = pd.DataFrame()\n",
    "    y_averaged_features = pd.DataFrame()\n",
    "    y_final_results = pd.DataFrame()\n",
    "    \n",
    "    # Build y data\n",
    "    for day_of_week in days_of_week:\n",
    "        y_grouped = y_scaled_data[y_scaled_data['day_of_week'] == day_of_week]\n",
    "        if not y_grouped.empty:\n",
    "            y_feature_avg = pd.concat([y_feature_avg, y_grouped], axis=0)\n",
    "    \n",
    "    y_results = y_feature_avg.reset_index(drop=True)\n",
    "\n",
    "print(\"y_results DataFrame:\")\n",
    "print(y_results)\n",
    "        \n",
    "    # Process features and day_of_week\n",
    "for day_of_week in days_of_week:\n",
    "    for feature in features:\n",
    "        if feature in y_results.columns:\n",
    "            # Rename the column to include day_of_week\n",
    "            y_feature = y_results[[feature]].rename(columns={feature: f'{feature}_{day_of_week}'}).reset_index(drop=True)\n",
    "    \n",
    "            # Concatenate the averaged feature into the results DataFrame\n",
    "            y_averaged_features = pd.concat([y_averaged_features, y_feature], axis=1)\n",
    "            \n",
    "            # Append the results if not empty\n",
    "            if not y_averaged_features.empty:\n",
    "                y_final_results = pd.concat([y_final_results, y_averaged_features], axis=0)\n",
    "    \n",
    "# Reset index and transpose\n",
    "y_final_results = y_final_results.reset_index(drop=True).T\n",
    "    \n",
    "# Concatenate results to the main DataFrame\n",
    "y_df = pd.concat([y_df, y_final_results], axis=0)\n",
    "\n",
    "# Print\n",
    "print(\"y_df DataFrame:\")\n",
    "print(y_df)\n",
    "\n",
    "# Build X data\n",
    "X_results = pd.DataFrame()\n",
    "    \n",
    "for day_of_week in days_of_week:\n",
    "    X_grouped = scaled_data[scaled_data['day_of_week'] == day_of_week]\n",
    "    if not X_grouped.empty:\n",
    "        X_results = pd.concat([X_results, X_grouped], axis=0)\n",
    "    \n",
    "X_df = pd.concat([X_df, X_results])\n",
    "\n",
    "print(\"X_df DataFrame:\")\n",
    "print(X_df)\n"
   ]
  },
  {
   "cell_type": "code",
   "execution_count": 18,
   "id": "248280c2-b961-491e-a48b-4201c3fb5ea7",
   "metadata": {},
   "outputs": [],
   "source": [
    "def create_sequences(scaled_data, y_scaled_data, seq_length, features):\n",
    "    xs, ys = [], []\n",
    "    for i in range(len(model_data) - seq_length):\n",
    "        x = scaled_data.iloc[i:i + seq_length][features].values\n",
    "        y = y_scaled_data.iloc[i + seq_length][features].values\n",
    "        xs.append(x)\n",
    "        ys.append(y)\n",
    "    return np.array(xs), np.array(ys)"
   ]
  },
  {
   "cell_type": "code",
   "execution_count": 19,
   "id": "3a973811-944a-4648-9a38-d0dd2a4448b4",
   "metadata": {},
   "outputs": [
    {
     "ename": "IndexError",
     "evalue": "single positional indexer is out-of-bounds",
     "output_type": "error",
     "traceback": [
      "\u001b[1;31m---------------------------------------------------------------------------\u001b[0m",
      "\u001b[1;31mIndexError\u001b[0m                                Traceback (most recent call last)",
      "Cell \u001b[1;32mIn[19], line 2\u001b[0m\n\u001b[0;32m      1\u001b[0m seq_length \u001b[38;5;241m=\u001b[39m \u001b[38;5;241m10\u001b[39m\n\u001b[1;32m----> 2\u001b[0m X, y \u001b[38;5;241m=\u001b[39m create_sequences(scaled_data, y_scaled_data, seq_length, features)\n",
      "Cell \u001b[1;32mIn[18], line 5\u001b[0m, in \u001b[0;36mcreate_sequences\u001b[1;34m(scaled_data, y_scaled_data, seq_length, features)\u001b[0m\n\u001b[0;32m      3\u001b[0m \u001b[38;5;28;01mfor\u001b[39;00m i \u001b[38;5;129;01min\u001b[39;00m \u001b[38;5;28mrange\u001b[39m(\u001b[38;5;28mlen\u001b[39m(model_data) \u001b[38;5;241m-\u001b[39m seq_length):\n\u001b[0;32m      4\u001b[0m     x \u001b[38;5;241m=\u001b[39m scaled_data\u001b[38;5;241m.\u001b[39miloc[i:i \u001b[38;5;241m+\u001b[39m seq_length][features]\u001b[38;5;241m.\u001b[39mvalues\n\u001b[1;32m----> 5\u001b[0m     y \u001b[38;5;241m=\u001b[39m y_scaled_data\u001b[38;5;241m.\u001b[39miloc[i \u001b[38;5;241m+\u001b[39m seq_length][features]\u001b[38;5;241m.\u001b[39mvalues\n\u001b[0;32m      6\u001b[0m     xs\u001b[38;5;241m.\u001b[39mappend(x)\n\u001b[0;32m      7\u001b[0m     ys\u001b[38;5;241m.\u001b[39mappend(y)\n",
      "File \u001b[1;32mE:\\anaconda\\Lib\\site-packages\\pandas\\core\\indexing.py:1191\u001b[0m, in \u001b[0;36m_LocationIndexer.__getitem__\u001b[1;34m(self, key)\u001b[0m\n\u001b[0;32m   1189\u001b[0m maybe_callable \u001b[38;5;241m=\u001b[39m com\u001b[38;5;241m.\u001b[39mapply_if_callable(key, \u001b[38;5;28mself\u001b[39m\u001b[38;5;241m.\u001b[39mobj)\n\u001b[0;32m   1190\u001b[0m maybe_callable \u001b[38;5;241m=\u001b[39m \u001b[38;5;28mself\u001b[39m\u001b[38;5;241m.\u001b[39m_check_deprecated_callable_usage(key, maybe_callable)\n\u001b[1;32m-> 1191\u001b[0m \u001b[38;5;28;01mreturn\u001b[39;00m \u001b[38;5;28mself\u001b[39m\u001b[38;5;241m.\u001b[39m_getitem_axis(maybe_callable, axis\u001b[38;5;241m=\u001b[39maxis)\n",
      "File \u001b[1;32mE:\\anaconda\\Lib\\site-packages\\pandas\\core\\indexing.py:1752\u001b[0m, in \u001b[0;36m_iLocIndexer._getitem_axis\u001b[1;34m(self, key, axis)\u001b[0m\n\u001b[0;32m   1749\u001b[0m     \u001b[38;5;28;01mraise\u001b[39;00m \u001b[38;5;167;01mTypeError\u001b[39;00m(\u001b[38;5;124m\"\u001b[39m\u001b[38;5;124mCannot index by location index with a non-integer key\u001b[39m\u001b[38;5;124m\"\u001b[39m)\n\u001b[0;32m   1751\u001b[0m \u001b[38;5;66;03m# validate the location\u001b[39;00m\n\u001b[1;32m-> 1752\u001b[0m \u001b[38;5;28mself\u001b[39m\u001b[38;5;241m.\u001b[39m_validate_integer(key, axis)\n\u001b[0;32m   1754\u001b[0m \u001b[38;5;28;01mreturn\u001b[39;00m \u001b[38;5;28mself\u001b[39m\u001b[38;5;241m.\u001b[39mobj\u001b[38;5;241m.\u001b[39m_ixs(key, axis\u001b[38;5;241m=\u001b[39maxis)\n",
      "File \u001b[1;32mE:\\anaconda\\Lib\\site-packages\\pandas\\core\\indexing.py:1685\u001b[0m, in \u001b[0;36m_iLocIndexer._validate_integer\u001b[1;34m(self, key, axis)\u001b[0m\n\u001b[0;32m   1683\u001b[0m len_axis \u001b[38;5;241m=\u001b[39m \u001b[38;5;28mlen\u001b[39m(\u001b[38;5;28mself\u001b[39m\u001b[38;5;241m.\u001b[39mobj\u001b[38;5;241m.\u001b[39m_get_axis(axis))\n\u001b[0;32m   1684\u001b[0m \u001b[38;5;28;01mif\u001b[39;00m key \u001b[38;5;241m>\u001b[39m\u001b[38;5;241m=\u001b[39m len_axis \u001b[38;5;129;01mor\u001b[39;00m key \u001b[38;5;241m<\u001b[39m \u001b[38;5;241m-\u001b[39mlen_axis:\n\u001b[1;32m-> 1685\u001b[0m     \u001b[38;5;28;01mraise\u001b[39;00m \u001b[38;5;167;01mIndexError\u001b[39;00m(\u001b[38;5;124m\"\u001b[39m\u001b[38;5;124msingle positional indexer is out-of-bounds\u001b[39m\u001b[38;5;124m\"\u001b[39m)\n",
      "\u001b[1;31mIndexError\u001b[0m: single positional indexer is out-of-bounds"
     ]
    }
   ],
   "source": [
    "seq_length = 10\n",
    "X, y = create_sequences(scaled_data, y_scaled_data, seq_length, features)"
   ]
  },
  {
   "cell_type": "code",
   "execution_count": null,
   "id": "65c567ea-437c-485a-8785-4eebf0f06fd4",
   "metadata": {},
   "outputs": [],
   "source": [
    "print(f\"Input shape: {X.shape}\")\n",
    "print(f\"Output shape: {y.shape}\")"
   ]
  },
  {
   "cell_type": "code",
   "execution_count": null,
   "id": "66655029-3048-42c2-9308-3e4670493019",
   "metadata": {},
   "outputs": [],
   "source": [
    "#split\n",
    "split = int(0.8 * len(X))\n",
    "X_train, X_test = X[:split], X[split:]\n",
    "y_train, y_test = y[:split], y[split:]"
   ]
  },
  {
   "cell_type": "code",
   "execution_count": null,
   "id": "f564eb6e-8efa-420b-9ef2-efba1d6bebed",
   "metadata": {},
   "outputs": [],
   "source": [
    "class StockDataset(Dataset):\n",
    "    def __init__(self, X, y):\n",
    "        self.X = torch.tensor(X, dtype=torch.float32)\n",
    "        self.y = torch.tensor(y, dtype=torch.float32)\n",
    "    \n",
    "    def __len__(self):\n",
    "        return len(self.X)\n",
    "    \n",
    "    def __getitem__(self, idx):\n",
    "        return self.X[idx], self.y[idx]\n",
    "\n",
    "train_dataset = StockDataset(X_train, y_train)\n",
    "test_dataset = StockDataset(X_test, y_test)\n",
    "\n",
    "train_loader = DataLoader(train_dataset, batch_size=64, shuffle=True)\n",
    "test_loader = DataLoader(test_dataset, batch_size=64, shuffle=False)"
   ]
  },
  {
   "cell_type": "code",
   "execution_count": null,
   "id": "a83a7fc9-f2da-4333-a97a-9a4f253d07c9",
   "metadata": {},
   "outputs": [],
   "source": [
    "class LSTMModel(nn.Module):\n",
    "    def __init__(self, input_dim, hidden_dim, output_dim, num_layers):\n",
    "        super(LSTMModel, self).__init__()\n",
    "        self.lstm = nn.LSTM(input_dim, hidden_dim, num_layers, batch_first=True)\n",
    "        self.fc = nn.Linear(hidden_dim, output_dim)\n",
    "    \n",
    "    def forward(self, x):\n",
    "        h0 = torch.zeros(num_layers, x.size(0), hidden_dim).to(x.device)\n",
    "        c0 = torch.zeros(num_layers, x.size(0), hidden_dim).to(x.device)\n",
    "        out, _ = self.lstm(x, (h0, c0))\n",
    "        out = self.fc(out[:, -1, :])\n",
    "        return out"
   ]
  },
  {
   "cell_type": "code",
   "execution_count": null,
   "id": "55e5bb22-00c1-47de-bfd7-4e2c9fc30386",
   "metadata": {},
   "outputs": [],
   "source": [
    "input_dim = len(features)\n",
    "hidden_dim = 50\n",
    "output_dim = len(features)\n",
    "num_layers = 2\n",
    "model = LSTMModel(input_dim, hidden_dim, output_dim, num_layers)"
   ]
  },
  {
   "cell_type": "code",
   "execution_count": null,
   "id": "fd5b71d0-57c5-4fe7-a56c-3c61d4a3d2c2",
   "metadata": {},
   "outputs": [],
   "source": [
    "#training\n",
    "criterion = nn.MSELoss()\n",
    "optimizer = torch.optim.Adam(model.parameters(), lr=0.001)\n",
    "\n",
    "num_epochs = 20\n",
    "for epoch in range(num_epochs):\n",
    "    model.train()\n",
    "    for X_batch, y_batch in train_loader:\n",
    "        outputs = model(X_batch)\n",
    "        loss = criterion(outputs, y_batch)\n",
    "        optimizer.zero_grad()\n",
    "        loss.backward()\n",
    "        optimizer.step()\n",
    "\n",
    "    print(f'Epoch [{epoch+1}/{num_epochs}], Loss: {loss.item():.4f}')"
   ]
  },
  {
   "cell_type": "code",
   "execution_count": null,
   "id": "16d41ca6-b50e-4711-9169-de7623a0b157",
   "metadata": {},
   "outputs": [],
   "source": [
    "model.eval()\n",
    "with torch.no_grad():\n",
    "    y_pred = []\n",
    "    y_true = []\n",
    "    for X_batch, y_batch in test_loader:\n",
    "        outputs = model(X_batch)\n",
    "        y_pred.extend(outputs.numpy())\n",
    "        y_true.extend(y_batch.numpy())\n",
    "\n",
    "    y_pred = np.array(y_pred)\n",
    "    y_true = np.array(y_true)"
   ]
  },
  {
   "cell_type": "code",
   "execution_count": null,
   "id": "828294ef-f4dc-4628-8785-5d507c213487",
   "metadata": {},
   "outputs": [],
   "source": [
    "y_pred = np.concatenate([scalers[col].inverse_transform(y_pred) for col in features], axis=1)\n",
    "y_true = np.concatenate([scalers[col].inverse_transform(y_true) for col in features], axis=1)"
   ]
  },
  {
   "cell_type": "code",
   "execution_count": null,
   "id": "dc54b1d8-a2cc-4fa0-bc54-6061a01360c9",
   "metadata": {},
   "outputs": [],
   "source": [
    "plt.figure(figsize=(12, 8))\n",
    "for i, feature in enumerate(features):\n",
    "    plt.subplot(len(features), 1, i+1)\n",
    "    plt.plot(y_true[:, i], label=f'True {feature}')\n",
    "    plt.plot(y_pred[:, i], label=f'Predicted {feature}')\n",
    "    plt.legend()\n",
    "plt.show()"
   ]
  },
  {
   "cell_type": "code",
   "execution_count": null,
   "id": "57293a05-a151-4ad4-86a8-b4e9dda755fb",
   "metadata": {},
   "outputs": [],
   "source": []
  }
 ],
 "metadata": {
  "kernelspec": {
   "display_name": "Python 3 (ipykernel)",
   "language": "python",
   "name": "python3"
  },
  "language_info": {
   "codemirror_mode": {
    "name": "ipython",
    "version": 3
   },
   "file_extension": ".py",
   "mimetype": "text/x-python",
   "name": "python",
   "nbconvert_exporter": "python",
   "pygments_lexer": "ipython3",
   "version": "3.12.4"
  }
 },
 "nbformat": 4,
 "nbformat_minor": 5
}
