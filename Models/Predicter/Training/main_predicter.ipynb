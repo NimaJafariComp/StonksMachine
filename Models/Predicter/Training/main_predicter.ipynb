{
 "cells": [
  {
   "cell_type": "code",
   "execution_count": 1,
   "id": "3e3fb34f-77d9-4399-81d8-9ee1b328ed65",
   "metadata": {},
   "outputs": [],
   "source": [
    "#begin"
   ]
  },
  {
   "cell_type": "code",
   "execution_count": 2,
   "id": "7a9129bf-5c7a-4c54-b2f3-a6401302712a",
   "metadata": {},
   "outputs": [],
   "source": [
    "import pandas as pd\n",
    "import numpy as np\n",
    "from sklearn.preprocessing import MinMaxScaler\n",
    "from torch.utils.data import Dataset, DataLoader\n",
    "import torch\n",
    "import torch.nn as nn\n",
    "import matplotlib.pyplot as plt\n",
    "import os"
   ]
  },
  {
   "cell_type": "code",
   "execution_count": 3,
   "id": "72011822-d8b5-4a36-adcc-304a7e2c7497",
   "metadata": {},
   "outputs": [
    {
     "name": "stderr",
     "output_type": "stream",
     "text": [
      "[*********************100%%**********************]  1 of 1 completed"
     ]
    },
    {
     "name": "stdout",
     "output_type": "stream",
     "text": [
      "Data downloaded and saved to 'C:/Users/nimam/StonksMachine/Data/nasdaq_prices.csv'\n",
      "               Open     High      Low    Close  Adj Close   Volume\n",
      "Date                                                              \n",
      "2000-01-07  17.8125  17.8750  17.2500  17.3125  12.136871  1199900\n",
      "2000-01-10  17.4375  17.4375  17.2500  17.3125  12.136871   958200\n",
      "2000-01-11  17.4375  17.8125  17.2500  17.6250  12.355947  1914500\n",
      "2000-01-12  17.3750  17.5625  17.2500  17.3125  12.136871   936200\n",
      "2000-01-13  17.3125  17.6250  17.1875  17.1875  12.049243  1147800\n",
      "                 Open       High        Low      Close  Adj Close    Volume\n",
      "Date                                                                       \n",
      "2020-12-24  22.799999  23.040001  22.730000  22.900000  20.494329   4920100\n",
      "2020-12-28  23.520000  23.540001  22.799999  22.840000  20.440638  15946700\n",
      "2020-12-29  22.959999  23.280001  22.750000  22.910000  20.503283  14663900\n",
      "2020-12-30  22.969999  23.280001  22.850000  23.240000  20.798615  16046500\n",
      "2020-12-31  23.250000  23.270000  22.700001  22.780001  20.386940  18088000\n",
      "Index(['Open', 'High', 'Low', 'Close', 'Adj Close', 'Volume'], dtype='object')\n"
     ]
    },
    {
     "name": "stderr",
     "output_type": "stream",
     "text": [
      "\n"
     ]
    }
   ],
   "source": [
    "import yfinance as yf\n",
    "ticker = 'GOLD'  # NASDAQ Composite Index\n",
    "\n",
    "# Download historical data\n",
    "data = yf.download(ticker, start='2000-01-07', end='2021-01-01')\n",
    "\n",
    "# Save to CSV\n",
    "data.to_csv('C:/Users/nimam/StonksMachine/Data/nasdaq_prices.csv')\n",
    "\n",
    "print(\"Data downloaded and saved to 'C:/Users/nimam/StonksMachine/Data/nasdaq_prices.csv'\")\n",
    "print(data.head(5))  # first 5 rows\n",
    "\n",
    "#last few rows\n",
    "print(data.tail(5))  # Prints the last 5 rows by default\n",
    "\n",
    "print(data.columns)\n"
   ]
  },
  {
   "cell_type": "code",
   "execution_count": 4,
   "id": "a86eb1f0-014e-406e-a3fb-76e698c7661a",
   "metadata": {},
   "outputs": [
    {
     "name": "stderr",
     "output_type": "stream",
     "text": [
      "[*********************100%%**********************]  1 of 1 completed"
     ]
    },
    {
     "name": "stdout",
     "output_type": "stream",
     "text": [
      "Data downloaded and saved to 'C:/Users/nimam/StonksMachine/Data/Y_nasdaq_prices.csv'\n",
      "                 Open       High        Low      Close  Adj Close    Volume\n",
      "Date                                                                       \n",
      "2021-01-04  23.850000  24.799999  23.620001  24.620001  22.033648  41044700\n",
      "2021-01-05  24.930000  24.950001  24.090000  24.280001  21.729366  30884800\n",
      "2021-01-06  24.070000  24.570000  23.900000  24.500000  21.926250  30367800\n",
      "2021-01-07  24.540001  24.860001  24.250000  24.770000  22.167889  18996000\n",
      "2021-01-08  24.219999  24.370001  23.580000  23.969999  21.451929  25824800\n",
      "                 Open       High    Low      Close  Adj Close    Volume\n",
      "Date                                                                   \n",
      "2023-12-27  18.230000  18.540001  18.23  18.469999  18.235504  12681000\n",
      "2023-12-28  18.360001  18.420000  18.08  18.090000  17.860329  12089400\n",
      "2023-12-29  18.020000  18.100000  17.83  18.090000  17.860329  11945400\n",
      "2024-01-02  18.020000  18.230000  17.82  17.879999  17.652994  13275400\n",
      "2024-01-03  17.459999  17.820000  17.07  17.330000  17.109978  24485500\n",
      "Index(['Open', 'High', 'Low', 'Close', 'Adj Close', 'Volume'], dtype='object')\n"
     ]
    },
    {
     "name": "stderr",
     "output_type": "stream",
     "text": [
      "\n"
     ]
    }
   ],
   "source": [
    "# Download historical data for Y input\n",
    "y_data = yf.download(ticker, start='2021-01-04', end='2024-01-04')\n",
    "\n",
    "# Save to CSV\n",
    "y_data.to_csv('C:/Users/nimam/StonksMachine/Data/Y_nasdaq_prices.csv')\n",
    "\n",
    "print(\"Data downloaded and saved to 'C:/Users/nimam/StonksMachine/Data/Y_nasdaq_prices.csv'\")\n",
    "print(y_data.head(5))  # first 5 rows\n",
    "\n",
    "#last few rows\n",
    "print(y_data.tail(5))  # Prints the last 5 rows by default\n",
    "\n",
    "print(y_data.columns)"
   ]
  },
  {
   "cell_type": "code",
   "execution_count": 5,
   "id": "1b0884db-4631-4e20-8266-609d97e1e5eb",
   "metadata": {},
   "outputs": [
    {
     "name": "stdout",
     "output_type": "stream",
     "text": [
      "<class 'pandas.core.frame.DataFrame'>\n",
      "RangeIndex: 5280 entries, 0 to 5279\n",
      "Data columns (total 7 columns):\n",
      " #   Column     Non-Null Count  Dtype  \n",
      "---  ------     --------------  -----  \n",
      " 0   Date       5280 non-null   object \n",
      " 1   Open       5280 non-null   float64\n",
      " 2   High       5280 non-null   float64\n",
      " 3   Low        5280 non-null   float64\n",
      " 4   Close      5280 non-null   float64\n",
      " 5   Adj Close  5280 non-null   float64\n",
      " 6   Volume     5280 non-null   int64  \n",
      "dtypes: float64(5), int64(1), object(1)\n",
      "memory usage: 288.9+ KB\n",
      "None\n"
     ]
    }
   ],
   "source": [
    "# Display info about the DataFrame\n",
    "model_data = pd.read_csv('C:/Users/nimam/StonksMachine/Data/nasdaq_prices.csv', index_col=None)\n",
    "print(model_data.info())"
   ]
  },
  {
   "cell_type": "code",
   "execution_count": 6,
   "id": "a3868bb3-5f72-42ae-b665-ca636d71c852",
   "metadata": {},
   "outputs": [
    {
     "name": "stdout",
     "output_type": "stream",
     "text": [
      "<class 'pandas.core.frame.DataFrame'>\n",
      "RangeIndex: 755 entries, 0 to 754\n",
      "Data columns (total 7 columns):\n",
      " #   Column     Non-Null Count  Dtype  \n",
      "---  ------     --------------  -----  \n",
      " 0   Date       755 non-null    object \n",
      " 1   Open       755 non-null    float64\n",
      " 2   High       755 non-null    float64\n",
      " 3   Low        755 non-null    float64\n",
      " 4   Close      755 non-null    float64\n",
      " 5   Adj Close  755 non-null    float64\n",
      " 6   Volume     755 non-null    int64  \n",
      "dtypes: float64(5), int64(1), object(1)\n",
      "memory usage: 41.4+ KB\n",
      "None\n"
     ]
    }
   ],
   "source": [
    "y_model_data = pd.read_csv('C:/Users/nimam/StonksMachine/Data/Y_nasdaq_prices.csv', index_col=None)\n",
    "print(y_model_data.info())"
   ]
  },
  {
   "cell_type": "code",
   "execution_count": 7,
   "id": "2b9a3f64-7a52-4462-b286-a846841657b3",
   "metadata": {},
   "outputs": [
    {
     "name": "stdout",
     "output_type": "stream",
     "text": [
      "               Open     High      Low    Close  Adj Close   Volume\n",
      "Date                                                              \n",
      "2000-01-07  17.8125  17.8750  17.2500  17.3125  12.136871  1199900\n",
      "2000-01-10  17.4375  17.4375  17.2500  17.3125  12.136871   958200\n",
      "2000-01-11  17.4375  17.8125  17.2500  17.6250  12.355947  1914500\n",
      "2000-01-12  17.3750  17.5625  17.2500  17.3125  12.136871   936200\n",
      "2000-01-13  17.3125  17.6250  17.1875  17.1875  12.049243  1147800\n"
     ]
    }
   ],
   "source": [
    "model_data['Date'] = pd.to_datetime(model_data['Date'])\n",
    "model_data.set_index('Date', inplace=True)\n",
    "\n",
    "print(model_data.head())\n",
    "\n"
   ]
  },
  {
   "cell_type": "code",
   "execution_count": 8,
   "id": "086dfc60-77c7-494e-b7a1-aa4931ea9507",
   "metadata": {},
   "outputs": [
    {
     "name": "stdout",
     "output_type": "stream",
     "text": [
      "                 Open       High        Low      Close  Adj Close    Volume\n",
      "Date                                                                       \n",
      "2021-01-04  23.850000  24.799999  23.620001  24.620001  22.033648  41044700\n",
      "2021-01-05  24.930000  24.950001  24.090000  24.280001  21.729366  30884800\n",
      "2021-01-06  24.070000  24.570000  23.900000  24.500000  21.926250  30367800\n",
      "2021-01-07  24.540001  24.860001  24.250000  24.770000  22.167889  18996000\n",
      "2021-01-08  24.219999  24.370001  23.580000  23.969999  21.451929  25824800\n"
     ]
    }
   ],
   "source": [
    "y_model_data['Date'] = pd.to_datetime(y_model_data['Date'])\n",
    "y_model_data.set_index('Date', inplace=True)\n",
    "\n",
    "print(y_model_data.head())"
   ]
  },
  {
   "cell_type": "code",
   "execution_count": 9,
   "id": "4c24c4f9-e3c7-4128-a8ef-6f91c0c1d9dd",
   "metadata": {},
   "outputs": [
    {
     "name": "stdout",
     "output_type": "stream",
     "text": [
      "Open         0\n",
      "High         0\n",
      "Low          0\n",
      "Close        0\n",
      "Adj Close    0\n",
      "Volume       0\n",
      "dtype: int64\n",
      "               Open     High      Low    Close  Adj Close     Volume\n",
      "2000-01-07  17.8125  17.8750  17.2500  17.3125  12.136871  1199900.0\n",
      "2000-01-08  17.8125  17.8750  17.2500  17.3125  12.136871  1199900.0\n",
      "2000-01-09  17.8125  17.8750  17.2500  17.3125  12.136871  1199900.0\n",
      "2000-01-10  17.4375  17.4375  17.2500  17.3125  12.136871   958200.0\n",
      "2000-01-11  17.4375  17.8125  17.2500  17.6250  12.355947  1914500.0\n",
      "2000-01-12  17.3750  17.5625  17.2500  17.3125  12.136871   936200.0\n",
      "2000-01-13  17.3125  17.6250  17.1875  17.1875  12.049243  1147800.0\n",
      "2000-01-14  17.1250  17.1875  16.9375  16.9375  11.873981  1610400.0\n",
      "2000-01-15  17.1250  17.1875  16.9375  16.9375  11.873981  1610400.0\n",
      "2000-01-16  17.1250  17.1875  16.9375  16.9375  11.873981  1610400.0\n"
     ]
    }
   ],
   "source": [
    "all_dates = pd.date_range(start=model_data.index.min(), end=model_data.index.max(), freq='D') \n",
    "\n",
    "model_data = model_data.reindex(all_dates)\n",
    "\n",
    "model_data.ffill(inplace=True)\n",
    "\n",
    "print(model_data.isna().sum())\n",
    "print(model_data.head(10))"
   ]
  },
  {
   "cell_type": "code",
   "execution_count": 10,
   "id": "2978a094-2c83-4ef1-b3c8-6734d2adcd2e",
   "metadata": {},
   "outputs": [
    {
     "name": "stdout",
     "output_type": "stream",
     "text": [
      "        Date     Open     High      Low    Close  Adj Close     Volume\n",
      "0 2000-01-07  17.8125  17.8750  17.2500  17.3125  12.136871  1199900.0\n",
      "1 2000-01-08  17.8125  17.8750  17.2500  17.3125  12.136871  1199900.0\n",
      "2 2000-01-09  17.8125  17.8750  17.2500  17.3125  12.136871  1199900.0\n",
      "3 2000-01-10  17.4375  17.4375  17.2500  17.3125  12.136871   958200.0\n",
      "4 2000-01-11  17.4375  17.8125  17.2500  17.6250  12.355947  1914500.0\n",
      "5 2000-01-12  17.3750  17.5625  17.2500  17.3125  12.136871   936200.0\n",
      "6 2000-01-13  17.3125  17.6250  17.1875  17.1875  12.049243  1147800.0\n",
      "7 2000-01-14  17.1250  17.1875  16.9375  16.9375  11.873981  1610400.0\n",
      "8 2000-01-15  17.1250  17.1875  16.9375  16.9375  11.873981  1610400.0\n",
      "9 2000-01-16  17.1250  17.1875  16.9375  16.9375  11.873981  1610400.0\n"
     ]
    }
   ],
   "source": [
    "model_data = model_data.reset_index()\n",
    "model_data.rename(columns={'index': 'Date'}, inplace=True)\n",
    "#model_data.reset_index(drop=True, inplace=True)\n",
    "print(model_data.head(10))"
   ]
  },
  {
   "cell_type": "code",
   "execution_count": 11,
   "id": "8d0f28f0-bfba-43d9-8c4c-cec1d554aff1",
   "metadata": {},
   "outputs": [
    {
     "name": "stdout",
     "output_type": "stream",
     "text": [
      "      Open     High      Low    Close  Adj Close     Volume    year  month  \\\n",
      "0  17.8125  17.8750  17.2500  17.3125  12.136871  1199900.0  2000.0    1.0   \n",
      "1  17.8125  17.8750  17.2500  17.3125  12.136871  1199900.0  2000.0    1.0   \n",
      "2  17.8125  17.8750  17.2500  17.3125  12.136871  1199900.0  2000.0    1.0   \n",
      "3  17.4375  17.4375  17.2500  17.3125  12.136871   958200.0  2000.0    1.0   \n",
      "4  17.4375  17.8125  17.2500  17.6250  12.355947  1914500.0  2000.0    1.0   \n",
      "5  17.3750  17.5625  17.2500  17.3125  12.136871   936200.0  2000.0    1.0   \n",
      "6  17.3125  17.6250  17.1875  17.1875  12.049243  1147800.0  2000.0    1.0   \n",
      "7  17.1250  17.1875  16.9375  16.9375  11.873981  1610400.0  2000.0    1.0   \n",
      "8  17.1250  17.1875  16.9375  16.9375  11.873981  1610400.0  2000.0    1.0   \n",
      "9  17.1250  17.1875  16.9375  16.9375  11.873981  1610400.0  2000.0    1.0   \n",
      "\n",
      "    day  day_of_week  \n",
      "0   7.0            4  \n",
      "1   8.0            5  \n",
      "2   9.0            6  \n",
      "3  10.0            0  \n",
      "4  11.0            1  \n",
      "5  12.0            2  \n",
      "6  13.0            3  \n",
      "7  14.0            4  \n",
      "8  15.0            5  \n",
      "9  16.0            6  \n",
      "           Open       High        Low      Close  Adj Close      Volume  \\\n",
      "7655  23.000000  23.049999  22.260000  22.520000  20.154255  19820200.0   \n",
      "7656  22.620001  23.030001  22.559999  22.830000  20.431686  11737800.0   \n",
      "7657  22.799999  23.040001  22.730000  22.900000  20.494329   4920100.0   \n",
      "7658  22.799999  23.040001  22.730000  22.900000  20.494329   4920100.0   \n",
      "7659  22.799999  23.040001  22.730000  22.900000  20.494329   4920100.0   \n",
      "7660  22.799999  23.040001  22.730000  22.900000  20.494329   4920100.0   \n",
      "7661  23.520000  23.540001  22.799999  22.840000  20.440638  15946700.0   \n",
      "7662  22.959999  23.280001  22.750000  22.910000  20.503283  14663900.0   \n",
      "7663  22.969999  23.280001  22.850000  23.240000  20.798615  16046500.0   \n",
      "7664  23.250000  23.270000  22.700001  22.780001  20.386940  18088000.0   \n",
      "\n",
      "        year  month   day  day_of_week  \n",
      "7655  2020.0   12.0  22.0            1  \n",
      "7656  2020.0   12.0  23.0            2  \n",
      "7657  2020.0   12.0  24.0            3  \n",
      "7658  2020.0   12.0  25.0            4  \n",
      "7659  2020.0   12.0  26.0            5  \n",
      "7660  2020.0   12.0  27.0            6  \n",
      "7661  2020.0   12.0  28.0            0  \n",
      "7662  2020.0   12.0  29.0            1  \n",
      "7663  2020.0   12.0  30.0            2  \n",
      "7664  2020.0   12.0  31.0            3  \n"
     ]
    }
   ],
   "source": [
    "#convert date column to year, month, and day\n",
    "model_data['year'] = model_data['Date'].dt.year.astype('float64')\n",
    "model_data['month'] = model_data['Date'].dt.month.astype('float64')\n",
    "model_data['day'] = model_data['Date'].dt.day.astype('float64')\n",
    "model_data['day_of_week'] = model_data['Date'].dt.dayofweek\n",
    "model_data = model_data.drop(columns=['Date'])\n",
    "\n",
    "print(model_data.head(10))\n",
    "print(model_data.tail(10))"
   ]
  },
  {
   "cell_type": "code",
   "execution_count": 12,
   "id": "7dbd953c-8f1f-45a1-98d9-61fe731438be",
   "metadata": {},
   "outputs": [
    {
     "name": "stdout",
     "output_type": "stream",
     "text": [
      "Open         0\n",
      "High         0\n",
      "Low          0\n",
      "Close        0\n",
      "Adj Close    0\n",
      "Volume       0\n",
      "dtype: int64\n",
      "                 Open       High        Low      Close  Adj Close    Volume\n",
      "Date                                                                       \n",
      "2021-01-04  23.850000  24.799999  23.620001  24.620001  22.033648  41044700\n",
      "2021-01-05  24.930000  24.950001  24.090000  24.280001  21.729366  30884800\n",
      "2021-01-06  24.070000  24.570000  23.900000  24.500000  21.926250  30367800\n",
      "2021-01-07  24.540001  24.860001  24.250000  24.770000  22.167889  18996000\n",
      "2021-01-08  24.219999  24.370001  23.580000  23.969999  21.451929  25824800\n",
      "2021-01-11  23.530001  23.780001  23.440001  23.520000  21.049200  21563700\n",
      "2021-01-12  23.590000  23.670000  23.200001  23.540001  21.067102  22550300\n",
      "2021-01-13  23.600000  23.900000  23.490000  23.600000  21.120798  17298500\n",
      "2021-01-14  23.570000  23.910000  23.540001  23.680000  21.192392  15120900\n",
      "2021-01-15  23.580000  23.730000  23.110001  23.139999  20.709118  16309900\n",
      "Open         0\n",
      "High         0\n",
      "Low          0\n",
      "Close        0\n",
      "Adj Close    0\n",
      "Volume       0\n",
      "dtype: int64\n",
      "                 Open       High        Low      Close  Adj Close      Volume\n",
      "2021-01-04  23.850000  24.799999  23.620001  24.620001  22.033648  41044700.0\n",
      "2021-01-05  24.930000  24.950001  24.090000  24.280001  21.729366  30884800.0\n",
      "2021-01-06  24.070000  24.570000  23.900000  24.500000  21.926250  30367800.0\n",
      "2021-01-07  24.540001  24.860001  24.250000  24.770000  22.167889  18996000.0\n",
      "2021-01-08  24.219999  24.370001  23.580000  23.969999  21.451929  25824800.0\n",
      "2021-01-09  24.219999  24.370001  23.580000  23.969999  21.451929  25824800.0\n",
      "2021-01-10  24.219999  24.370001  23.580000  23.969999  21.451929  25824800.0\n",
      "2021-01-11  23.530001  23.780001  23.440001  23.520000  21.049200  21563700.0\n",
      "2021-01-12  23.590000  23.670000  23.200001  23.540001  21.067102  22550300.0\n",
      "2021-01-13  23.600000  23.900000  23.490000  23.600000  21.120798  17298500.0\n"
     ]
    }
   ],
   "source": [
    "print(y_model_data.isna().sum())\n",
    "print(y_model_data.head(10))\n",
    "y_all_dates = pd.date_range(start=y_model_data.index.min(), end=y_model_data.index.max(), freq='D') \n",
    "\n",
    "y_model_data = y_model_data.reindex(y_all_dates)\n",
    "\n",
    "y_model_data.ffill(inplace=True)\n",
    "\n",
    "print(y_model_data.isna().sum())\n",
    "print(y_model_data.head(10))"
   ]
  },
  {
   "cell_type": "code",
   "execution_count": 13,
   "id": "9f999589-6f8d-47a2-b072-bedcc22f20c4",
   "metadata": {},
   "outputs": [
    {
     "name": "stdout",
     "output_type": "stream",
     "text": [
      "        Date       Open       High        Low      Close  Adj Close  \\\n",
      "0 2021-01-04  23.850000  24.799999  23.620001  24.620001  22.033648   \n",
      "1 2021-01-05  24.930000  24.950001  24.090000  24.280001  21.729366   \n",
      "2 2021-01-06  24.070000  24.570000  23.900000  24.500000  21.926250   \n",
      "3 2021-01-07  24.540001  24.860001  24.250000  24.770000  22.167889   \n",
      "4 2021-01-08  24.219999  24.370001  23.580000  23.969999  21.451929   \n",
      "5 2021-01-09  24.219999  24.370001  23.580000  23.969999  21.451929   \n",
      "6 2021-01-10  24.219999  24.370001  23.580000  23.969999  21.451929   \n",
      "7 2021-01-11  23.530001  23.780001  23.440001  23.520000  21.049200   \n",
      "8 2021-01-12  23.590000  23.670000  23.200001  23.540001  21.067102   \n",
      "9 2021-01-13  23.600000  23.900000  23.490000  23.600000  21.120798   \n",
      "\n",
      "       Volume  \n",
      "0  41044700.0  \n",
      "1  30884800.0  \n",
      "2  30367800.0  \n",
      "3  18996000.0  \n",
      "4  25824800.0  \n",
      "5  25824800.0  \n",
      "6  25824800.0  \n",
      "7  21563700.0  \n",
      "8  22550300.0  \n",
      "9  17298500.0  \n"
     ]
    }
   ],
   "source": [
    "y_model_data = y_model_data.reset_index()\n",
    "y_model_data.rename(columns={'index': 'Date'}, inplace=True)\n",
    "#model_data.reset_index(drop=True, inplace=True)\n",
    "print(y_model_data.head(10))"
   ]
  },
  {
   "cell_type": "code",
   "execution_count": 14,
   "id": "884cd4ed-c6b2-4198-86d7-9eceeaff303b",
   "metadata": {},
   "outputs": [
    {
     "name": "stdout",
     "output_type": "stream",
     "text": [
      "        Open       High        Low      Close  Adj Close      Volume    year  \\\n",
      "0  23.850000  24.799999  23.620001  24.620001  22.033648  41044700.0  2021.0   \n",
      "1  24.930000  24.950001  24.090000  24.280001  21.729366  30884800.0  2021.0   \n",
      "2  24.070000  24.570000  23.900000  24.500000  21.926250  30367800.0  2021.0   \n",
      "3  24.540001  24.860001  24.250000  24.770000  22.167889  18996000.0  2021.0   \n",
      "4  24.219999  24.370001  23.580000  23.969999  21.451929  25824800.0  2021.0   \n",
      "5  24.219999  24.370001  23.580000  23.969999  21.451929  25824800.0  2021.0   \n",
      "6  24.219999  24.370001  23.580000  23.969999  21.451929  25824800.0  2021.0   \n",
      "7  23.530001  23.780001  23.440001  23.520000  21.049200  21563700.0  2021.0   \n",
      "8  23.590000  23.670000  23.200001  23.540001  21.067102  22550300.0  2021.0   \n",
      "9  23.600000  23.900000  23.490000  23.600000  21.120798  17298500.0  2021.0   \n",
      "\n",
      "   month   day  day_of_week  \n",
      "0    1.0   4.0            0  \n",
      "1    1.0   5.0            1  \n",
      "2    1.0   6.0            2  \n",
      "3    1.0   7.0            3  \n",
      "4    1.0   8.0            4  \n",
      "5    1.0   9.0            5  \n",
      "6    1.0  10.0            6  \n",
      "7    1.0  11.0            0  \n",
      "8    1.0  12.0            1  \n",
      "9    1.0  13.0            2  \n"
     ]
    }
   ],
   "source": [
    "#convert date column to year, month, and day\n",
    "y_model_data['year'] = y_model_data['Date'].dt.year.astype('float64')\n",
    "y_model_data['month'] = y_model_data['Date'].dt.month.astype('float64')\n",
    "y_model_data['day'] = y_model_data['Date'].dt.day.astype('float64')\n",
    "y_model_data['day_of_week'] = y_model_data['Date'].dt.dayofweek\n",
    "y_model_data = y_model_data.drop(columns=['Date'])\n",
    "print(y_model_data.head(10))"
   ]
  },
  {
   "cell_type": "code",
   "execution_count": 15,
   "id": "91d99afb-a8b2-4a16-91ec-2c2dfc8c5bf1",
   "metadata": {
    "scrolled": true
   },
   "outputs": [
    {
     "name": "stdout",
     "output_type": "stream",
     "text": [
      "          Open      High       Low     Close    year  month   day  day_of_week\n",
      "0     0.237212  0.234212  0.230582  0.228869  2000.0    1.0   7.0            4\n",
      "1     0.237212  0.234212  0.230582  0.228869  2000.0    1.0   8.0            5\n",
      "2     0.237212  0.234212  0.230582  0.228869  2000.0    1.0   9.0            6\n",
      "3     0.229630  0.225412  0.230582  0.228869  2000.0    1.0  10.0            0\n",
      "4     0.229630  0.232955  0.230582  0.235158  2000.0    1.0  11.0            1\n",
      "...        ...       ...       ...       ...     ...    ...   ...          ...\n",
      "7660  0.338051  0.338093  0.342009  0.341316  2020.0   12.0  27.0            6\n",
      "7661  0.352608  0.348150  0.343432  0.340109  2020.0   12.0  28.0            0\n",
      "7662  0.341286  0.342920  0.342416  0.341517  2020.0   12.0  29.0            1\n",
      "7663  0.341488  0.342920  0.344449  0.348159  2020.0   12.0  30.0            2\n",
      "7664  0.347149  0.342719  0.341399  0.338901  2020.0   12.0  31.0            3\n",
      "\n",
      "[7665 rows x 8 columns]\n"
     ]
    }
   ],
   "source": [
    "# only saling the features and not dates \n",
    "features = ['Open', 'High', 'Low', 'Close']\n",
    "non_features = ['year', 'month', 'day', 'day_of_week']\n",
    "scalers = {col: MinMaxScaler() for col in features}\n",
    "scaled_data = pd.DataFrame(index=model_data.index)\n",
    "for col in features:\n",
    "    scaled_data[col] = scalers[col].fit_transform(model_data[[col]])\n",
    "\n",
    "\n",
    "scaled_data = pd.concat([scaled_data, model_data[non_features]], axis=1)\n",
    "print(scaled_data)"
   ]
  },
  {
   "cell_type": "code",
   "execution_count": 16,
   "id": "5424d470-e1fd-4d93-9a28-87ca0b20d5a0",
   "metadata": {},
   "outputs": [
    {
     "name": "stdout",
     "output_type": "stream",
     "text": [
      "          Open      High       Low     Close    year  month   day  day_of_week\n",
      "0     0.843724  0.892646  0.854267  0.923077  2021.0    1.0   4.0            0\n",
      "1     0.933500  0.905326  0.892109  0.895833  2021.0    1.0   5.0            1\n",
      "2     0.862012  0.873204  0.876812  0.913462  2021.0    1.0   6.0            2\n",
      "3     0.901081  0.897718  0.904992  0.935096  2021.0    1.0   7.0            3\n",
      "4     0.874480  0.856298  0.851047  0.870994  2021.0    1.0   8.0            4\n",
      "...        ...       ...       ...       ...     ...    ...   ...          ...\n",
      "1090  0.359102  0.326289  0.388084  0.399840  2023.0   12.0  30.0            5\n",
      "1091  0.359102  0.326289  0.388084  0.399840  2023.0   12.0  31.0            6\n",
      "1092  0.359102  0.326289  0.388084  0.399840  2024.0    1.0   1.0            0\n",
      "1093  0.359102  0.337278  0.387279  0.383013  2024.0    1.0   2.0            1\n",
      "1094  0.312552  0.302620  0.326892  0.338942  2024.0    1.0   3.0            2\n",
      "\n",
      "[1095 rows x 8 columns]\n"
     ]
    }
   ],
   "source": [
    "# only saling the features and not dates again lol\n",
    "y_scaled_data = pd.DataFrame(index=y_model_data.index)\n",
    "for col in features:\n",
    "    y_scaled_data[col] = scalers[col].fit_transform(y_model_data[[col]])\n",
    "\n",
    "\n",
    "y_scaled_data = pd.concat([y_scaled_data, y_model_data[non_features]], axis=1)\n",
    "print(y_scaled_data)"
   ]
  },
  {
   "cell_type": "code",
   "execution_count": 17,
   "id": "b21d9638-f08e-49bb-9700-6ad2136db688",
   "metadata": {},
   "outputs": [
    {
     "data": {
      "text/plain": [
       "1095"
      ]
     },
     "execution_count": 17,
     "metadata": {},
     "output_type": "execute_result"
    }
   ],
   "source": [
    "X_train = scaled_data\n",
    "X_train_length = len(X_train)\n",
    "X_test = y_scaled_data\n",
    "X_test_length = len(X_test)\n",
    "X_test_length\n"
   ]
  },
  {
   "cell_type": "code",
   "execution_count": 18,
   "id": "7af18271-866c-41fe-bce1-daa7bb8cffcc",
   "metadata": {},
   "outputs": [
    {
     "name": "stdout",
     "output_type": "stream",
     "text": [
      "500\n",
      "1000\n",
      "1500\n",
      "2000\n",
      "2500\n",
      "3000\n",
      "3500\n",
      "4000\n",
      "4500\n",
      "5000\n",
      "5500\n",
      "6000\n",
      "6500\n",
      "7000\n",
      "7500\n"
     ]
    },
    {
     "data": {
      "text/html": [
       "<div>\n",
       "<style scoped>\n",
       "    .dataframe tbody tr th:only-of-type {\n",
       "        vertical-align: middle;\n",
       "    }\n",
       "\n",
       "    .dataframe tbody tr th {\n",
       "        vertical-align: top;\n",
       "    }\n",
       "\n",
       "    .dataframe thead th {\n",
       "        text-align: right;\n",
       "    }\n",
       "</style>\n",
       "<table border=\"1\" class=\"dataframe\">\n",
       "  <thead>\n",
       "    <tr style=\"text-align: right;\">\n",
       "      <th></th>\n",
       "      <th>y</th>\n",
       "      <th>Seven Weeks</th>\n",
       "    </tr>\n",
       "  </thead>\n",
       "  <tbody>\n",
       "    <tr>\n",
       "      <th>0</th>\n",
       "      <td>[0.20941164311757016, 0.2115848717525287, 0.21...</td>\n",
       "      <td>[0.23089364834793186, 0.23672565979151955, 0.2...</td>\n",
       "    </tr>\n",
       "    <tr>\n",
       "      <th>1</th>\n",
       "      <td>[0.20941164311757016, 0.2115848717525287, 0.21...</td>\n",
       "      <td>[0.23089364834793186, 0.23672565979151955, 0.2...</td>\n",
       "    </tr>\n",
       "    <tr>\n",
       "      <th>2</th>\n",
       "      <td>[0.20941164311757016, 0.2115848717525287, 0.21...</td>\n",
       "      <td>[0.23089364834793186, 0.23672565979151955, 0.2...</td>\n",
       "    </tr>\n",
       "    <tr>\n",
       "      <th>3</th>\n",
       "      <td>[0.2157298799500295, 0.2140989505564278, 0.214...</td>\n",
       "      <td>[0.23089364834793186, 0.23672565979151955, 0.2...</td>\n",
       "    </tr>\n",
       "    <tr>\n",
       "      <th>4</th>\n",
       "      <td>[0.21320258521704577, 0.2140989505564278, 0.21...</td>\n",
       "      <td>[0.23468459044740747, 0.2455249356051663, 0.23...</td>\n",
       "    </tr>\n",
       "    <tr>\n",
       "      <th>...</th>\n",
       "      <td>...</td>\n",
       "      <td>...</td>\n",
       "    </tr>\n",
       "    <tr>\n",
       "      <th>7611</th>\n",
       "      <td>[0.33805092960105915, 0.3380933355783936, 0.34...</td>\n",
       "      <td>[0.3560452943230542, 0.35116653768630923, 0.35...</td>\n",
       "    </tr>\n",
       "    <tr>\n",
       "      <th>7612</th>\n",
       "      <td>[0.35260817194365807, 0.34814965079398996, 0.3...</td>\n",
       "      <td>[0.34714920606518346, 0.34553498735532795, 0.3...</td>\n",
       "    </tr>\n",
       "    <tr>\n",
       "      <th>7613</th>\n",
       "      <td>[0.3412858637742017, 0.34292036227846406, 0.34...</td>\n",
       "      <td>[0.342094616599216, 0.3382944281243232, 0.3324...</td>\n",
       "    </tr>\n",
       "    <tr>\n",
       "      <th>7614</th>\n",
       "      <td>[0.34148805198045523, 0.34292036227846406, 0.3...</td>\n",
       "      <td>[0.33441165757886665, 0.33789220467066594, 0.3...</td>\n",
       "    </tr>\n",
       "    <tr>\n",
       "      <th>7615</th>\n",
       "      <td>[0.34714920606518346, 0.3427192313707364, 0.34...</td>\n",
       "      <td>[0.33805092960105915, 0.3380933355783936, 0.34...</td>\n",
       "    </tr>\n",
       "  </tbody>\n",
       "</table>\n",
       "<p>7616 rows × 2 columns</p>\n",
       "</div>"
      ],
      "text/plain": [
       "                                                      y  \\\n",
       "0     [0.20941164311757016, 0.2115848717525287, 0.21...   \n",
       "1     [0.20941164311757016, 0.2115848717525287, 0.21...   \n",
       "2     [0.20941164311757016, 0.2115848717525287, 0.21...   \n",
       "3     [0.2157298799500295, 0.2140989505564278, 0.214...   \n",
       "4     [0.21320258521704577, 0.2140989505564278, 0.21...   \n",
       "...                                                 ...   \n",
       "7611  [0.33805092960105915, 0.3380933355783936, 0.34...   \n",
       "7612  [0.35260817194365807, 0.34814965079398996, 0.3...   \n",
       "7613  [0.3412858637742017, 0.34292036227846406, 0.34...   \n",
       "7614  [0.34148805198045523, 0.34292036227846406, 0.3...   \n",
       "7615  [0.34714920606518346, 0.3427192313707364, 0.34...   \n",
       "\n",
       "                                            Seven Weeks  \n",
       "0     [0.23089364834793186, 0.23672565979151955, 0.2...  \n",
       "1     [0.23089364834793186, 0.23672565979151955, 0.2...  \n",
       "2     [0.23089364834793186, 0.23672565979151955, 0.2...  \n",
       "3     [0.23089364834793186, 0.23672565979151955, 0.2...  \n",
       "4     [0.23468459044740747, 0.2455249356051663, 0.23...  \n",
       "...                                                 ...  \n",
       "7611  [0.3560452943230542, 0.35116653768630923, 0.35...  \n",
       "7612  [0.34714920606518346, 0.34553498735532795, 0.3...  \n",
       "7613  [0.342094616599216, 0.3382944281243232, 0.3324...  \n",
       "7614  [0.33441165757886665, 0.33789220467066594, 0.3...  \n",
       "7615  [0.33805092960105915, 0.3380933355783936, 0.34...  \n",
       "\n",
       "[7616 rows x 2 columns]"
      ]
     },
     "execution_count": 18,
     "metadata": {},
     "output_type": "execute_result"
    }
   ],
   "source": [
    "lookBackWeeks = 7\n",
    "X_train_df = pd.DataFrame(columns = ['y', \"Seven Weeks\"])\n",
    "X_test_df = pd.DataFrame(columns = ['y', \"Seven Weeks\"])\n",
    "\n",
    "for i in range (7 * lookBackWeeks, X_train_length):\n",
    "    Seven_Weeks = []\n",
    "    if i % 500 == 0:\n",
    "        print(i)\n",
    "    for j in range (i-7, i-50, -7):\n",
    "        row = X_train.iloc[j][features].to_list()\n",
    "        Seven_Weeks += row\n",
    "\n",
    "    current_day = X_train.iloc[i][features].to_list()\n",
    "\n",
    "    new_row = pd.DataFrame({\n",
    "        'y': [current_day],\n",
    "        'Seven Weeks': [Seven_Weeks]\n",
    "    })\n",
    "\n",
    "    X_train_df = pd.concat([X_train_df, new_row], ignore_index=True)\n",
    "X_train_df"
   ]
  },
  {
   "cell_type": "code",
   "execution_count": 19,
   "id": "6eaf1da2-ad1d-4e28-96dd-e43dc3f91b38",
   "metadata": {},
   "outputs": [
    {
     "name": "stdout",
     "output_type": "stream",
     "text": [
      "500\n",
      "1000\n"
     ]
    },
    {
     "data": {
      "text/html": [
       "<div>\n",
       "<style scoped>\n",
       "    .dataframe tbody tr th:only-of-type {\n",
       "        vertical-align: middle;\n",
       "    }\n",
       "\n",
       "    .dataframe tbody tr th {\n",
       "        vertical-align: top;\n",
       "    }\n",
       "\n",
       "    .dataframe thead th {\n",
       "        text-align: right;\n",
       "    }\n",
       "</style>\n",
       "<table border=\"1\" class=\"dataframe\">\n",
       "  <thead>\n",
       "    <tr style=\"text-align: right;\">\n",
       "      <th></th>\n",
       "      <th>y</th>\n",
       "      <th>Seven Weeks</th>\n",
       "    </tr>\n",
       "  </thead>\n",
       "  <tbody>\n",
       "    <tr>\n",
       "      <th>0</th>\n",
       "      <td>[0.523690800546583, 0.5376162849846515, 0.5515...</td>\n",
       "      <td>[0.6957606044345142, 0.6804734739074543, 0.700...</td>\n",
       "    </tr>\n",
       "    <tr>\n",
       "      <th>1</th>\n",
       "      <td>[0.5669161097158326, 0.5350803013127168, 0.545...</td>\n",
       "      <td>[0.6891105690661181, 0.6652578943354643, 0.695...</td>\n",
       "    </tr>\n",
       "    <tr>\n",
       "      <th>2</th>\n",
       "      <td>[0.5211969778274279, 0.5054944700593822, 0.541...</td>\n",
       "      <td>[0.632585189160076, 0.597633114152156, 0.61111...</td>\n",
       "    </tr>\n",
       "    <tr>\n",
       "      <th>3</th>\n",
       "      <td>[0.5112220040495088, 0.503803975507902, 0.5112...</td>\n",
       "      <td>[0.5960100739085719, 0.5705832665707564, 0.580...</td>\n",
       "    </tr>\n",
       "    <tr>\n",
       "      <th>4</th>\n",
       "      <td>[0.45968411103242657, 0.4268809109871181, 0.45...</td>\n",
       "      <td>[0.5536160389790401, 0.5232460333033069, 0.537...</td>\n",
       "    </tr>\n",
       "    <tr>\n",
       "      <th>...</th>\n",
       "      <td>...</td>\n",
       "      <td>...</td>\n",
       "    </tr>\n",
       "    <tr>\n",
       "      <th>1041</th>\n",
       "      <td>[0.359102306266766, 0.3262891492177047, 0.3880...</td>\n",
       "      <td>[0.38237735078147783, 0.3643279369178696, 0.41...</td>\n",
       "    </tr>\n",
       "    <tr>\n",
       "      <th>1042</th>\n",
       "      <td>[0.359102306266766, 0.3262891492177047, 0.3880...</td>\n",
       "      <td>[0.38237735078147783, 0.3643279369178696, 0.41...</td>\n",
       "    </tr>\n",
       "    <tr>\n",
       "      <th>1043</th>\n",
       "      <td>[0.359102306266766, 0.3262891492177047, 0.3880...</td>\n",
       "      <td>[0.38237735078147783, 0.3643279369178696, 0.41...</td>\n",
       "    </tr>\n",
       "    <tr>\n",
       "      <th>1044</th>\n",
       "      <td>[0.359102306266766, 0.33727808933646997, 0.387...</td>\n",
       "      <td>[0.3832086250211959, 0.3448858791224647, 0.407...</td>\n",
       "    </tr>\n",
       "    <tr>\n",
       "      <th>1045</th>\n",
       "      <td>[0.3125519001386434, 0.3026204519690754, 0.326...</td>\n",
       "      <td>[0.37655858965279987, 0.363482770257034, 0.420...</td>\n",
       "    </tr>\n",
       "  </tbody>\n",
       "</table>\n",
       "<p>1046 rows × 2 columns</p>\n",
       "</div>"
      ],
      "text/plain": [
       "                                                      y  \\\n",
       "0     [0.523690800546583, 0.5376162849846515, 0.5515...   \n",
       "1     [0.5669161097158326, 0.5350803013127168, 0.545...   \n",
       "2     [0.5211969778274279, 0.5054944700593822, 0.541...   \n",
       "3     [0.5112220040495088, 0.503803975507902, 0.5112...   \n",
       "4     [0.45968411103242657, 0.4268809109871181, 0.45...   \n",
       "...                                                 ...   \n",
       "1041  [0.359102306266766, 0.3262891492177047, 0.3880...   \n",
       "1042  [0.359102306266766, 0.3262891492177047, 0.3880...   \n",
       "1043  [0.359102306266766, 0.3262891492177047, 0.3880...   \n",
       "1044  [0.359102306266766, 0.33727808933646997, 0.387...   \n",
       "1045  [0.3125519001386434, 0.3026204519690754, 0.326...   \n",
       "\n",
       "                                            Seven Weeks  \n",
       "0     [0.6957606044345142, 0.6804734739074543, 0.700...  \n",
       "1     [0.6891105690661181, 0.6652578943354643, 0.695...  \n",
       "2     [0.632585189160076, 0.597633114152156, 0.61111...  \n",
       "3     [0.5960100739085719, 0.5705832665707564, 0.580...  \n",
       "4     [0.5536160389790401, 0.5232460333033069, 0.537...  \n",
       "...                                                 ...  \n",
       "1041  [0.38237735078147783, 0.3643279369178696, 0.41...  \n",
       "1042  [0.38237735078147783, 0.3643279369178696, 0.41...  \n",
       "1043  [0.38237735078147783, 0.3643279369178696, 0.41...  \n",
       "1044  [0.3832086250211959, 0.3448858791224647, 0.407...  \n",
       "1045  [0.37655858965279987, 0.363482770257034, 0.420...  \n",
       "\n",
       "[1046 rows x 2 columns]"
      ]
     },
     "execution_count": 19,
     "metadata": {},
     "output_type": "execute_result"
    }
   ],
   "source": [
    "for i in range (7 * lookBackWeeks, X_test_length):\n",
    "    Seven_Weeks = []\n",
    "    if i % 500 == 0:\n",
    "        print(i)\n",
    "    for j in range (i-7, i-50, -7):\n",
    "        row = X_test.iloc[j][features].to_list()\n",
    "        Seven_Weeks += row\n",
    "\n",
    "    current_day = X_test.iloc[i][features].to_list()\n",
    "\n",
    "    new_row = pd.DataFrame({\n",
    "        'y': [current_day],\n",
    "        'Seven Weeks': [Seven_Weeks]\n",
    "    })\n",
    "\n",
    "    X_test_df = pd.concat([X_test_df, new_row], ignore_index=True)\n",
    "X_test_df"
   ]
  },
  {
   "cell_type": "code",
   "execution_count": 20,
   "id": "afc60975-4b86-48de-a3d2-b6b27a513c49",
   "metadata": {},
   "outputs": [
    {
     "data": {
      "text/plain": [
       "y              [0.20941164311757016, 0.2115848717525287, 0.21...\n",
       "Seven Weeks    [0.23089364834793186, 0.23672565979151955, 0.2...\n",
       "Name: 0, dtype: object"
      ]
     },
     "execution_count": 20,
     "metadata": {},
     "output_type": "execute_result"
    }
   ],
   "source": [
    "X_train_df.iloc[0]"
   ]
  },
  {
   "cell_type": "code",
   "execution_count": 21,
   "id": "7d3fb7ad-f44c-4cfb-bbae-39e2b1733cd6",
   "metadata": {},
   "outputs": [
    {
     "data": {
      "text/plain": [
       "y              [0.523690800546583, 0.5376162849846515, 0.5515...\n",
       "Seven Weeks    [0.6957606044345142, 0.6804734739074543, 0.700...\n",
       "Name: 0, dtype: object"
      ]
     },
     "execution_count": 21,
     "metadata": {},
     "output_type": "execute_result"
    }
   ],
   "source": [
    "X_test_df.iloc[0]"
   ]
  },
  {
   "cell_type": "code",
   "execution_count": 22,
   "id": "38ee32d6-3af5-4675-99c2-1c2d529019a3",
   "metadata": {},
   "outputs": [
    {
     "data": {
      "text/html": [
       "<div>\n",
       "<style scoped>\n",
       "    .dataframe tbody tr th:only-of-type {\n",
       "        vertical-align: middle;\n",
       "    }\n",
       "\n",
       "    .dataframe tbody tr th {\n",
       "        vertical-align: top;\n",
       "    }\n",
       "\n",
       "    .dataframe thead th {\n",
       "        text-align: right;\n",
       "    }\n",
       "</style>\n",
       "<table border=\"1\" class=\"dataframe\">\n",
       "  <thead>\n",
       "    <tr style=\"text-align: right;\">\n",
       "      <th></th>\n",
       "      <th>Open</th>\n",
       "      <th>High</th>\n",
       "      <th>Low</th>\n",
       "      <th>Close</th>\n",
       "    </tr>\n",
       "  </thead>\n",
       "  <tbody>\n",
       "    <tr>\n",
       "      <th>0</th>\n",
       "      <td>0.209412</td>\n",
       "      <td>0.211585</td>\n",
       "      <td>0.210248</td>\n",
       "      <td>0.216291</td>\n",
       "    </tr>\n",
       "    <tr>\n",
       "      <th>1</th>\n",
       "      <td>0.209412</td>\n",
       "      <td>0.211585</td>\n",
       "      <td>0.210248</td>\n",
       "      <td>0.216291</td>\n",
       "    </tr>\n",
       "    <tr>\n",
       "      <th>2</th>\n",
       "      <td>0.209412</td>\n",
       "      <td>0.211585</td>\n",
       "      <td>0.210248</td>\n",
       "      <td>0.216291</td>\n",
       "    </tr>\n",
       "    <tr>\n",
       "      <th>3</th>\n",
       "      <td>0.215730</td>\n",
       "      <td>0.214099</td>\n",
       "      <td>0.214061</td>\n",
       "      <td>0.211260</td>\n",
       "    </tr>\n",
       "    <tr>\n",
       "      <th>4</th>\n",
       "      <td>0.213203</td>\n",
       "      <td>0.214099</td>\n",
       "      <td>0.211519</td>\n",
       "      <td>0.208744</td>\n",
       "    </tr>\n",
       "    <tr>\n",
       "      <th>...</th>\n",
       "      <td>...</td>\n",
       "      <td>...</td>\n",
       "      <td>...</td>\n",
       "      <td>...</td>\n",
       "    </tr>\n",
       "    <tr>\n",
       "      <th>7611</th>\n",
       "      <td>0.338051</td>\n",
       "      <td>0.338093</td>\n",
       "      <td>0.342009</td>\n",
       "      <td>0.341316</td>\n",
       "    </tr>\n",
       "    <tr>\n",
       "      <th>7612</th>\n",
       "      <td>0.352608</td>\n",
       "      <td>0.348150</td>\n",
       "      <td>0.343432</td>\n",
       "      <td>0.340109</td>\n",
       "    </tr>\n",
       "    <tr>\n",
       "      <th>7613</th>\n",
       "      <td>0.341286</td>\n",
       "      <td>0.342920</td>\n",
       "      <td>0.342416</td>\n",
       "      <td>0.341517</td>\n",
       "    </tr>\n",
       "    <tr>\n",
       "      <th>7614</th>\n",
       "      <td>0.341488</td>\n",
       "      <td>0.342920</td>\n",
       "      <td>0.344449</td>\n",
       "      <td>0.348159</td>\n",
       "    </tr>\n",
       "    <tr>\n",
       "      <th>7615</th>\n",
       "      <td>0.347149</td>\n",
       "      <td>0.342719</td>\n",
       "      <td>0.341399</td>\n",
       "      <td>0.338901</td>\n",
       "    </tr>\n",
       "  </tbody>\n",
       "</table>\n",
       "<p>7616 rows × 4 columns</p>\n",
       "</div>"
      ],
      "text/plain": [
       "          Open      High       Low     Close\n",
       "0     0.209412  0.211585  0.210248  0.216291\n",
       "1     0.209412  0.211585  0.210248  0.216291\n",
       "2     0.209412  0.211585  0.210248  0.216291\n",
       "3     0.215730  0.214099  0.214061  0.211260\n",
       "4     0.213203  0.214099  0.211519  0.208744\n",
       "...        ...       ...       ...       ...\n",
       "7611  0.338051  0.338093  0.342009  0.341316\n",
       "7612  0.352608  0.348150  0.343432  0.340109\n",
       "7613  0.341286  0.342920  0.342416  0.341517\n",
       "7614  0.341488  0.342920  0.344449  0.348159\n",
       "7615  0.347149  0.342719  0.341399  0.338901\n",
       "\n",
       "[7616 rows x 4 columns]"
      ]
     },
     "execution_count": 22,
     "metadata": {},
     "output_type": "execute_result"
    }
   ],
   "source": [
    "# Split the 'y' column into separate columns\n",
    "split_df = pd.DataFrame(X_train_df['y'].tolist(), index=X_train_df.index)\n",
    "\n",
    "# Optionally rename the new columns\n",
    "split_df.columns = features\n",
    "\n",
    "# Join the new columns back to the original DataFrame (excluding the old 'y' column)\n",
    "y_train = X_train_df.drop(columns=['y', \"Seven Weeks\"]).join(split_df)\n",
    "\n",
    "(y_train)"
   ]
  },
  {
   "cell_type": "code",
   "execution_count": 23,
   "id": "20098fa5-2282-4a81-83a3-de415b5d5124",
   "metadata": {},
   "outputs": [
    {
     "name": "stdout",
     "output_type": "stream",
     "text": [
      "         Open0     High0      Low0    Close0     Open1     High1      Low1  \\\n",
      "0     0.230894  0.236726  0.234394  0.241447  0.246057  0.243011  0.239477   \n",
      "1     0.230894  0.236726  0.234394  0.241447  0.246057  0.243011  0.239477   \n",
      "2     0.230894  0.236726  0.234394  0.241447  0.246057  0.243011  0.239477   \n",
      "3     0.230894  0.236726  0.234394  0.241447  0.244794  0.240497  0.234394   \n",
      "4     0.234685  0.245525  0.235665  0.246478  0.229630  0.234212  0.229311   \n",
      "...        ...       ...       ...       ...       ...       ...       ...   \n",
      "7611  0.356045  0.351167  0.352786  0.348762  0.343712  0.343524  0.344246   \n",
      "7612  0.347149  0.345535  0.346482  0.343731  0.340073  0.338697  0.335299   \n",
      "7613  0.342095  0.338294  0.332452  0.333669  0.338860  0.340708  0.341602   \n",
      "7614  0.334412  0.337892  0.338552  0.339907  0.342297  0.340105  0.340586   \n",
      "7615  0.338051  0.338093  0.342009  0.341316  0.355034  0.358206  0.355836   \n",
      "\n",
      "        Close1     Open2     High2  ...      Low4    Close4     Open5  \\\n",
      "0     0.248994  0.225839  0.246782  ...  0.225498  0.225096  0.223312   \n",
      "1     0.248994  0.225839  0.246782  ...  0.225498  0.225096  0.223312   \n",
      "2     0.248994  0.225839  0.246782  ...  0.225498  0.225096  0.223312   \n",
      "3     0.232642  0.261221  0.271923  ...  0.214061  0.213775  0.223312   \n",
      "4     0.240189  0.235948  0.232955  ...  0.212790  0.212518  0.225839   \n",
      "...        ...       ...       ...  ...       ...       ...       ...   \n",
      "7611  0.341316  0.357258  0.353379  ...  0.371289  0.369088  0.408815   \n",
      "7612  0.332059  0.352204  0.361424  ...  0.350346  0.348159  0.398706   \n",
      "7613  0.340712  0.364335  0.359614  ...  0.337942  0.339102  0.398706   \n",
      "7614  0.344737  0.357258  0.353580  ...  0.340586  0.339907  0.387384   \n",
      "7615  0.355202  0.352204  0.348753  ...  0.340586  0.339907  0.365750   \n",
      "\n",
      "         High5      Low5    Close5     Open6     High6      Low6    Close6  \n",
      "0     0.220384  0.224227  0.221322  0.237212  0.234212  0.230582  0.228869  \n",
      "1     0.220384  0.224227  0.221322  0.237212  0.234212  0.230582  0.228869  \n",
      "2     0.220384  0.224227  0.221322  0.237212  0.234212  0.230582  0.228869  \n",
      "3     0.220384  0.224227  0.221322  0.229630  0.225412  0.230582  0.228869  \n",
      "4     0.230440  0.228040  0.233900  0.229630  0.232955  0.230582  0.235158  \n",
      "...        ...       ...       ...       ...       ...       ...       ...  \n",
      "7611  0.404465  0.405856  0.401489  0.474727  0.470032  0.464416  0.461461  \n",
      "7612  0.398230  0.397723  0.400885  0.427416  0.426589  0.410329  0.421815  \n",
      "7613  0.395615  0.394876  0.391024  0.420946  0.417940  0.406466  0.402495  \n",
      "7614  0.383146  0.376373  0.372711  0.399110  0.394409  0.395079  0.399477  \n",
      "7615  0.366251  0.368036  0.367076  0.403154  0.402454  0.405043  0.401892  \n",
      "\n",
      "[7616 rows x 28 columns]\n"
     ]
    }
   ],
   "source": [
    "# Split the 'y' column into separate columns\n",
    "split_df_seven = pd.DataFrame(X_train_df[\"Seven Weeks\"].tolist(), index=X_train_df.index)\n",
    "\n",
    "# Optionally rename the new columns\n",
    "features2 = []\n",
    "for i in range(7):\n",
    "    features2.append(f\"Open{ i}\")\n",
    "    features2.append(f\"High{ i}\") \n",
    "    features2.append(f\"Low{ i}\") \n",
    "    features2.append(f\"Close{ i}\")\n",
    "    \n",
    "split_df_seven.columns = features2\n",
    "\n",
    "# Join the new columns back to the original DataFrame (excluding the old 'y' column)\n",
    "X_train = X_train_df.drop(columns=['y', \"Seven Weeks\"]).join(split_df_seven)\n",
    "\n",
    "print(X_train)"
   ]
  },
  {
   "cell_type": "code",
   "execution_count": 24,
   "id": "4a78929b-c34d-435f-9996-349b27669808",
   "metadata": {},
   "outputs": [
    {
     "name": "stdout",
     "output_type": "stream",
     "text": [
      "         Open0     High0      Low0    Close0     Open1     High1      Low1  \\\n",
      "0     0.695761  0.680473  0.700483  0.725160  0.742311  0.713440  0.755233   \n",
      "1     0.689111  0.665258  0.695652  0.689103  0.733167  0.701606  0.745572   \n",
      "2     0.632585  0.597633  0.611111  0.619391  0.738155  0.715131  0.750403   \n",
      "3     0.596010  0.570583  0.580515  0.578526  0.735661  0.704142  0.733494   \n",
      "4     0.553616  0.523246  0.537842  0.535256  0.695761  0.680473  0.700483   \n",
      "...        ...       ...       ...       ...       ...       ...       ...   \n",
      "1041  0.382377  0.364328  0.414654  0.405449  0.322527  0.288250  0.354267   \n",
      "1042  0.382377  0.364328  0.414654  0.405449  0.322527  0.288250  0.354267   \n",
      "1043  0.382377  0.364328  0.414654  0.405449  0.322527  0.296703  0.357488   \n",
      "1044  0.383209  0.344886  0.407407  0.406250  0.335827  0.338123  0.380032   \n",
      "1045  0.376559  0.363483  0.420290  0.430288  0.366584  0.328825  0.381642   \n",
      "\n",
      "        Close1     Open2     High2  ...      Low4    Close4     Open5  \\\n",
      "0     0.750000  0.767249  0.737954  ...  0.813205  0.804487  0.817124   \n",
      "1     0.747596  0.701579  0.699916  ...  0.813205  0.824519  0.822111   \n",
      "2     0.754006  0.716542  0.696534  ...  0.851047  0.859776  0.822943   \n",
      "3     0.728365  0.682461  0.660186  ...  0.837359  0.847756  0.820449   \n",
      "4     0.725160  0.698254  0.688081  ...  0.797907  0.830929  0.821280   \n",
      "...        ...       ...       ...  ...       ...       ...       ...   \n",
      "1041  0.353365  0.263508  0.235841  ...  0.249597  0.250801  0.197839   \n",
      "1042  0.353365  0.263508  0.235841  ...  0.249597  0.250801  0.197839   \n",
      "1043  0.370994  0.241064  0.208791  ...  0.267311  0.278045  0.157107   \n",
      "1044  0.399840  0.250208  0.209636  ...  0.289050  0.347756  0.195345   \n",
      "1045  0.374199  0.216958  0.269653  ...  0.339774  0.343750  0.209476   \n",
      "\n",
      "         High5      Low5    Close5     Open6     High6      Low6    Close6  \n",
      "0     0.806424  0.839775  0.834936  0.843724  0.892646  0.854267  0.923077  \n",
      "1     0.797126  0.820451  0.836539  0.933500  0.905326  0.892109  0.895833  \n",
      "2     0.816568  0.843800  0.841346  0.862012  0.873204  0.876812  0.913462  \n",
      "3     0.817413  0.847826  0.847756  0.901081  0.897718  0.904992  0.935096  \n",
      "4     0.802198  0.813205  0.804487  0.874480  0.856298  0.851047  0.870994  \n",
      "...        ...       ...       ...       ...       ...       ...       ...  \n",
      "1041  0.155537  0.215781  0.209135  0.121363  0.083686  0.161031  0.169872  \n",
      "1042  0.155537  0.215781  0.209135  0.121363  0.083686  0.161031  0.169872  \n",
      "1043  0.136940  0.198068  0.215545  0.127182  0.092984  0.169082  0.162660  \n",
      "1044  0.180896  0.244766  0.247596  0.149626  0.131868  0.192432  0.209135  \n",
      "1045  0.174134  0.247182  0.251603  0.162095  0.128487  0.200483  0.201122  \n",
      "\n",
      "[1046 rows x 28 columns]\n"
     ]
    }
   ],
   "source": [
    "# Split the 'y' column into separate columns\n",
    "split_df_seven = pd.DataFrame(X_test_df[\"Seven Weeks\"].tolist(), index=X_test_df.index)\n",
    "\n",
    "# Optionally rename the new columns\n",
    "features2 = []\n",
    "for i in range(7):\n",
    "    features2.append(f\"Open{ i}\")\n",
    "    features2.append(f\"High{ i}\") \n",
    "    features2.append(f\"Low{ i}\") \n",
    "    features2.append(f\"Close{ i}\")\n",
    "    \n",
    "split_df_seven.columns = features2\n",
    "\n",
    "# Join the new columns back to the original DataFrame (excluding the old 'y' column)\n",
    "X_test = X_test_df.drop(columns=['y', \"Seven Weeks\"]).join(split_df_seven)\n",
    "\n",
    "print(X_test)"
   ]
  },
  {
   "cell_type": "code",
   "execution_count": 25,
   "id": "c4c74459-cb66-4bac-9461-c62c902690c7",
   "metadata": {},
   "outputs": [
    {
     "data": {
      "text/html": [
       "<div>\n",
       "<style scoped>\n",
       "    .dataframe tbody tr th:only-of-type {\n",
       "        vertical-align: middle;\n",
       "    }\n",
       "\n",
       "    .dataframe tbody tr th {\n",
       "        vertical-align: top;\n",
       "    }\n",
       "\n",
       "    .dataframe thead th {\n",
       "        text-align: right;\n",
       "    }\n",
       "</style>\n",
       "<table border=\"1\" class=\"dataframe\">\n",
       "  <thead>\n",
       "    <tr style=\"text-align: right;\">\n",
       "      <th></th>\n",
       "      <th>Open</th>\n",
       "      <th>High</th>\n",
       "      <th>Low</th>\n",
       "      <th>Close</th>\n",
       "    </tr>\n",
       "  </thead>\n",
       "  <tbody>\n",
       "    <tr>\n",
       "      <th>0</th>\n",
       "      <td>0.523691</td>\n",
       "      <td>0.537616</td>\n",
       "      <td>0.551530</td>\n",
       "      <td>0.595353</td>\n",
       "    </tr>\n",
       "    <tr>\n",
       "      <th>1</th>\n",
       "      <td>0.566916</td>\n",
       "      <td>0.535080</td>\n",
       "      <td>0.545894</td>\n",
       "      <td>0.565705</td>\n",
       "    </tr>\n",
       "    <tr>\n",
       "      <th>2</th>\n",
       "      <td>0.521197</td>\n",
       "      <td>0.505494</td>\n",
       "      <td>0.541063</td>\n",
       "      <td>0.560897</td>\n",
       "    </tr>\n",
       "    <tr>\n",
       "      <th>3</th>\n",
       "      <td>0.511222</td>\n",
       "      <td>0.503804</td>\n",
       "      <td>0.511272</td>\n",
       "      <td>0.508814</td>\n",
       "    </tr>\n",
       "    <tr>\n",
       "      <th>4</th>\n",
       "      <td>0.459684</td>\n",
       "      <td>0.426881</td>\n",
       "      <td>0.453301</td>\n",
       "      <td>0.446314</td>\n",
       "    </tr>\n",
       "    <tr>\n",
       "      <th>...</th>\n",
       "      <td>...</td>\n",
       "      <td>...</td>\n",
       "      <td>...</td>\n",
       "      <td>...</td>\n",
       "    </tr>\n",
       "    <tr>\n",
       "      <th>1041</th>\n",
       "      <td>0.359102</td>\n",
       "      <td>0.326289</td>\n",
       "      <td>0.388084</td>\n",
       "      <td>0.399840</td>\n",
       "    </tr>\n",
       "    <tr>\n",
       "      <th>1042</th>\n",
       "      <td>0.359102</td>\n",
       "      <td>0.326289</td>\n",
       "      <td>0.388084</td>\n",
       "      <td>0.399840</td>\n",
       "    </tr>\n",
       "    <tr>\n",
       "      <th>1043</th>\n",
       "      <td>0.359102</td>\n",
       "      <td>0.326289</td>\n",
       "      <td>0.388084</td>\n",
       "      <td>0.399840</td>\n",
       "    </tr>\n",
       "    <tr>\n",
       "      <th>1044</th>\n",
       "      <td>0.359102</td>\n",
       "      <td>0.337278</td>\n",
       "      <td>0.387279</td>\n",
       "      <td>0.383013</td>\n",
       "    </tr>\n",
       "    <tr>\n",
       "      <th>1045</th>\n",
       "      <td>0.312552</td>\n",
       "      <td>0.302620</td>\n",
       "      <td>0.326892</td>\n",
       "      <td>0.338942</td>\n",
       "    </tr>\n",
       "  </tbody>\n",
       "</table>\n",
       "<p>1046 rows × 4 columns</p>\n",
       "</div>"
      ],
      "text/plain": [
       "          Open      High       Low     Close\n",
       "0     0.523691  0.537616  0.551530  0.595353\n",
       "1     0.566916  0.535080  0.545894  0.565705\n",
       "2     0.521197  0.505494  0.541063  0.560897\n",
       "3     0.511222  0.503804  0.511272  0.508814\n",
       "4     0.459684  0.426881  0.453301  0.446314\n",
       "...        ...       ...       ...       ...\n",
       "1041  0.359102  0.326289  0.388084  0.399840\n",
       "1042  0.359102  0.326289  0.388084  0.399840\n",
       "1043  0.359102  0.326289  0.388084  0.399840\n",
       "1044  0.359102  0.337278  0.387279  0.383013\n",
       "1045  0.312552  0.302620  0.326892  0.338942\n",
       "\n",
       "[1046 rows x 4 columns]"
      ]
     },
     "execution_count": 25,
     "metadata": {},
     "output_type": "execute_result"
    }
   ],
   "source": [
    "# Split the 'y' column into separate columns\n",
    "split_df = pd.DataFrame(X_test_df['y'].tolist(), index=X_test_df.index)\n",
    "\n",
    "# Optionally rename the new columns\n",
    "split_df.columns = features\n",
    "\n",
    "# Join the new columns back to the original DataFrame (excluding the old 'y' column)\n",
    "y_test = X_test_df.drop(columns=['y', \"Seven Weeks\"]).join(split_df)\n",
    "\n",
    "(y_test)"
   ]
  },
  {
   "cell_type": "code",
   "execution_count": 26,
   "id": "67527c3a-1742-40a8-b32d-ede58b2618d0",
   "metadata": {},
   "outputs": [],
   "source": [
    "X_train = X_train.to_numpy()\n",
    "y_train = y_train.to_numpy()"
   ]
  },
  {
   "cell_type": "code",
   "execution_count": 27,
   "id": "d44e969f-4fef-409e-9e4f-72ebf2509e94",
   "metadata": {},
   "outputs": [],
   "source": [
    "X_test= X_test.to_numpy()\n",
    "y_test= y_test.to_numpy()"
   ]
  },
  {
   "cell_type": "code",
   "execution_count": 28,
   "id": "f564eb6e-8efa-420b-9ef2-efba1d6bebed",
   "metadata": {},
   "outputs": [],
   "source": [
    "device = torch.device('cuda' if torch.cuda.is_available() else 'cpu')\n",
    "class StockDataset(Dataset):\n",
    "    def __init__(self, X, y):\n",
    "        self.X = torch.tensor(X, dtype=torch.float32)\n",
    "        self.y = torch.tensor(y, dtype=torch.float32)\n",
    "    \n",
    "    def __len__(self):\n",
    "        return len(self.X)\n",
    "    \n",
    "    def __getitem__(self, idx):\n",
    "        return self.X[idx], self.y[idx]\n",
    "        \n",
    "train_dataset = StockDataset(X_train, y_train)\n",
    "test_dataset = StockDataset(X_test, y_test)\n",
    "\n",
    "train_loader = DataLoader(train_dataset, batch_size=64, shuffle=True)\n",
    "test_loader = DataLoader(test_dataset, batch_size=64, shuffle=False)"
   ]
  },
  {
   "cell_type": "code",
   "execution_count": 29,
   "id": "a83a7fc9-f2da-4333-a97a-9a4f253d07c9",
   "metadata": {},
   "outputs": [],
   "source": [
    "class LSTMModel(nn.Module):\n",
    "    def __init__(self, input_dim, hidden_dim, output_dim, num_layers):\n",
    "        super(LSTMModel, self).__init__()\n",
    "        self.lstm = nn.LSTM(input_dim, hidden_dim, num_layers, batch_first=True)\n",
    "        self.fc = nn.Linear(hidden_dim, output_dim)\n",
    "    \n",
    "    def forward(self, x):\n",
    "        h0 = torch.zeros(num_layers, x.size(0), hidden_dim).to(x.device)\n",
    "        c0 = torch.zeros(num_layers, x.size(0), hidden_dim).to(x.device)\n",
    "        out, _ = self.lstm(x, (h0, c0))\n",
    "        out = self.fc(out[:, -1, :])\n",
    "        return out"
   ]
  },
  {
   "cell_type": "code",
   "execution_count": 30,
   "id": "9ef7ef16-d113-416b-8414-d19bd476d52b",
   "metadata": {},
   "outputs": [
    {
     "data": {
      "text/plain": [
       "28"
      ]
     },
     "execution_count": 30,
     "metadata": {},
     "output_type": "execute_result"
    }
   ],
   "source": [
    "len(X_train[0])"
   ]
  },
  {
   "cell_type": "code",
   "execution_count": 31,
   "id": "55e5bb22-00c1-47de-bfd7-4e2c9fc30386",
   "metadata": {},
   "outputs": [
    {
     "data": {
      "text/plain": [
       "LSTMModel(\n",
       "  (lstm): LSTM(28, 120, num_layers=2, batch_first=True)\n",
       "  (fc): Linear(in_features=120, out_features=4, bias=True)\n",
       ")"
      ]
     },
     "execution_count": 31,
     "metadata": {},
     "output_type": "execute_result"
    }
   ],
   "source": [
    "input_dim = len(X_train[0])\n",
    "hidden_dim = 120\n",
    "output_dim = len(y_train[0])\n",
    "num_layers = 2\n",
    "model = LSTMModel(input_dim, hidden_dim, output_dim, num_layers)\n",
    "model.to(device)"
   ]
  },
  {
   "cell_type": "code",
   "execution_count": 32,
   "id": "fd5b71d0-57c5-4fe7-a56c-3c61d4a3d2c2",
   "metadata": {},
   "outputs": [
    {
     "name": "stdout",
     "output_type": "stream",
     "text": [
      "Epoch [1/200], Loss: 0.0022\n",
      "Epoch [2/200], Loss: 0.0018\n",
      "Epoch [3/200], Loss: 0.0006\n",
      "Epoch [4/200], Loss: 0.0010\n",
      "Epoch [5/200], Loss: 0.0008\n",
      "Epoch [6/200], Loss: 0.0006\n",
      "Epoch [7/200], Loss: 0.0010\n",
      "Epoch [8/200], Loss: 0.0008\n",
      "Epoch [9/200], Loss: 0.0010\n",
      "Epoch [10/200], Loss: 0.0014\n",
      "Epoch [11/200], Loss: 0.0009\n",
      "Epoch [12/200], Loss: 0.0007\n",
      "Epoch [13/200], Loss: 0.0007\n",
      "Epoch [14/200], Loss: 0.0013\n",
      "Epoch [15/200], Loss: 0.0014\n",
      "Epoch [16/200], Loss: 0.0014\n",
      "Epoch [17/200], Loss: 0.0007\n",
      "Epoch [18/200], Loss: 0.0016\n",
      "Epoch [19/200], Loss: 0.0015\n",
      "Epoch [20/200], Loss: 0.0010\n",
      "Epoch [21/200], Loss: 0.0005\n",
      "Epoch [22/200], Loss: 0.0008\n",
      "Epoch [23/200], Loss: 0.0008\n",
      "Epoch [24/200], Loss: 0.0024\n",
      "Epoch [25/200], Loss: 0.0016\n",
      "Epoch [26/200], Loss: 0.0011\n",
      "Epoch [27/200], Loss: 0.0010\n",
      "Epoch [28/200], Loss: 0.0008\n",
      "Epoch [29/200], Loss: 0.0012\n",
      "Epoch [30/200], Loss: 0.0010\n",
      "Epoch [31/200], Loss: 0.0006\n",
      "Epoch [32/200], Loss: 0.0011\n",
      "Epoch [33/200], Loss: 0.0014\n",
      "Epoch [34/200], Loss: 0.0015\n",
      "Epoch [35/200], Loss: 0.0011\n",
      "Epoch [36/200], Loss: 0.0009\n",
      "Epoch [37/200], Loss: 0.0007\n",
      "Epoch [38/200], Loss: 0.0012\n",
      "Epoch [39/200], Loss: 0.0011\n",
      "Epoch [40/200], Loss: 0.0007\n",
      "Epoch [41/200], Loss: 0.0004\n",
      "Epoch [42/200], Loss: 0.0006\n",
      "Epoch [43/200], Loss: 0.0010\n",
      "Epoch [44/200], Loss: 0.0007\n",
      "Epoch [45/200], Loss: 0.0010\n",
      "Epoch [46/200], Loss: 0.0010\n",
      "Epoch [47/200], Loss: 0.0008\n",
      "Epoch [48/200], Loss: 0.0009\n",
      "Epoch [49/200], Loss: 0.0012\n",
      "Epoch [50/200], Loss: 0.0009\n",
      "Epoch [51/200], Loss: 0.0013\n",
      "Epoch [52/200], Loss: 0.0007\n",
      "Epoch [53/200], Loss: 0.0013\n",
      "Epoch [54/200], Loss: 0.0005\n",
      "Epoch [55/200], Loss: 0.0013\n",
      "Epoch [56/200], Loss: 0.0008\n",
      "Epoch [57/200], Loss: 0.0012\n",
      "Epoch [58/200], Loss: 0.0009\n",
      "Epoch [59/200], Loss: 0.0009\n",
      "Epoch [60/200], Loss: 0.0008\n",
      "Epoch [61/200], Loss: 0.0011\n",
      "Epoch [62/200], Loss: 0.0007\n",
      "Epoch [63/200], Loss: 0.0009\n",
      "Epoch [64/200], Loss: 0.0017\n",
      "Epoch [65/200], Loss: 0.0006\n",
      "Epoch [66/200], Loss: 0.0015\n",
      "Epoch [67/200], Loss: 0.0008\n",
      "Epoch [68/200], Loss: 0.0007\n",
      "Epoch [69/200], Loss: 0.0009\n",
      "Epoch [70/200], Loss: 0.0008\n",
      "Epoch [71/200], Loss: 0.0011\n",
      "Epoch [72/200], Loss: 0.0007\n",
      "Epoch [73/200], Loss: 0.0013\n",
      "Epoch [74/200], Loss: 0.0013\n",
      "Epoch [75/200], Loss: 0.0010\n",
      "Epoch [76/200], Loss: 0.0004\n",
      "Epoch [77/200], Loss: 0.0008\n",
      "Epoch [78/200], Loss: 0.0005\n",
      "Epoch [79/200], Loss: 0.0007\n",
      "Epoch [80/200], Loss: 0.0017\n",
      "Epoch [81/200], Loss: 0.0007\n",
      "Epoch [82/200], Loss: 0.0010\n",
      "Epoch [83/200], Loss: 0.0010\n",
      "Epoch [84/200], Loss: 0.0011\n",
      "Epoch [85/200], Loss: 0.0007\n",
      "Epoch [86/200], Loss: 0.0009\n",
      "Epoch [87/200], Loss: 0.0007\n",
      "Epoch [88/200], Loss: 0.0014\n",
      "Epoch [89/200], Loss: 0.0011\n",
      "Epoch [90/200], Loss: 0.0008\n",
      "Epoch [91/200], Loss: 0.0005\n",
      "Epoch [92/200], Loss: 0.0012\n",
      "Epoch [93/200], Loss: 0.0006\n",
      "Epoch [94/200], Loss: 0.0013\n",
      "Epoch [95/200], Loss: 0.0014\n",
      "Epoch [96/200], Loss: 0.0007\n",
      "Epoch [97/200], Loss: 0.0010\n",
      "Epoch [98/200], Loss: 0.0014\n",
      "Epoch [99/200], Loss: 0.0014\n",
      "Epoch [100/200], Loss: 0.0014\n",
      "Epoch [101/200], Loss: 0.0006\n",
      "Epoch [102/200], Loss: 0.0006\n",
      "Epoch [103/200], Loss: 0.0009\n",
      "Epoch [104/200], Loss: 0.0010\n",
      "Epoch [105/200], Loss: 0.0017\n",
      "Epoch [106/200], Loss: 0.0009\n",
      "Epoch [107/200], Loss: 0.0007\n",
      "Epoch [108/200], Loss: 0.0006\n",
      "Epoch [109/200], Loss: 0.0008\n",
      "Epoch [110/200], Loss: 0.0011\n",
      "Epoch [111/200], Loss: 0.0006\n",
      "Epoch [112/200], Loss: 0.0008\n",
      "Epoch [113/200], Loss: 0.0006\n",
      "Epoch [114/200], Loss: 0.0007\n",
      "Epoch [115/200], Loss: 0.0015\n",
      "Epoch [116/200], Loss: 0.0010\n",
      "Epoch [117/200], Loss: 0.0008\n",
      "Epoch [118/200], Loss: 0.0009\n",
      "Epoch [119/200], Loss: 0.0010\n",
      "Epoch [120/200], Loss: 0.0011\n",
      "Epoch [121/200], Loss: 0.0009\n",
      "Epoch [122/200], Loss: 0.0006\n",
      "Epoch [123/200], Loss: 0.0010\n",
      "Epoch [124/200], Loss: 0.0011\n",
      "Epoch [125/200], Loss: 0.0008\n",
      "Epoch [126/200], Loss: 0.0005\n",
      "Epoch [127/200], Loss: 0.0011\n",
      "Epoch [128/200], Loss: 0.0011\n",
      "Epoch [129/200], Loss: 0.0011\n",
      "Epoch [130/200], Loss: 0.0013\n",
      "Epoch [131/200], Loss: 0.0011\n",
      "Epoch [132/200], Loss: 0.0011\n",
      "Epoch [133/200], Loss: 0.0006\n",
      "Epoch [134/200], Loss: 0.0012\n",
      "Epoch [135/200], Loss: 0.0013\n",
      "Epoch [136/200], Loss: 0.0007\n",
      "Epoch [137/200], Loss: 0.0012\n",
      "Epoch [138/200], Loss: 0.0010\n",
      "Epoch [139/200], Loss: 0.0006\n",
      "Epoch [140/200], Loss: 0.0009\n",
      "Epoch [141/200], Loss: 0.0005\n",
      "Epoch [142/200], Loss: 0.0012\n",
      "Epoch [143/200], Loss: 0.0011\n",
      "Epoch [144/200], Loss: 0.0010\n",
      "Epoch [145/200], Loss: 0.0010\n",
      "Epoch [146/200], Loss: 0.0009\n",
      "Epoch [147/200], Loss: 0.0011\n",
      "Epoch [148/200], Loss: 0.0008\n",
      "Epoch [149/200], Loss: 0.0013\n",
      "Epoch [150/200], Loss: 0.0009\n",
      "Epoch [151/200], Loss: 0.0010\n",
      "Epoch [152/200], Loss: 0.0006\n",
      "Epoch [153/200], Loss: 0.0010\n",
      "Epoch [154/200], Loss: 0.0016\n",
      "Epoch [155/200], Loss: 0.0008\n",
      "Epoch [156/200], Loss: 0.0007\n",
      "Epoch [157/200], Loss: 0.0014\n",
      "Epoch [158/200], Loss: 0.0008\n",
      "Epoch [159/200], Loss: 0.0009\n",
      "Epoch [160/200], Loss: 0.0010\n",
      "Epoch [161/200], Loss: 0.0008\n",
      "Epoch [162/200], Loss: 0.0013\n",
      "Epoch [163/200], Loss: 0.0008\n",
      "Epoch [164/200], Loss: 0.0006\n",
      "Epoch [165/200], Loss: 0.0007\n",
      "Epoch [166/200], Loss: 0.0013\n",
      "Epoch [167/200], Loss: 0.0010\n",
      "Epoch [168/200], Loss: 0.0006\n",
      "Epoch [169/200], Loss: 0.0006\n",
      "Epoch [170/200], Loss: 0.0006\n",
      "Epoch [171/200], Loss: 0.0004\n",
      "Epoch [172/200], Loss: 0.0006\n",
      "Epoch [173/200], Loss: 0.0007\n",
      "Epoch [174/200], Loss: 0.0007\n",
      "Epoch [175/200], Loss: 0.0006\n",
      "Epoch [176/200], Loss: 0.0014\n",
      "Epoch [177/200], Loss: 0.0006\n",
      "Epoch [178/200], Loss: 0.0007\n",
      "Epoch [179/200], Loss: 0.0012\n",
      "Epoch [180/200], Loss: 0.0011\n",
      "Epoch [181/200], Loss: 0.0006\n",
      "Epoch [182/200], Loss: 0.0005\n",
      "Epoch [183/200], Loss: 0.0008\n",
      "Epoch [184/200], Loss: 0.0009\n",
      "Epoch [185/200], Loss: 0.0017\n",
      "Epoch [186/200], Loss: 0.0007\n",
      "Epoch [187/200], Loss: 0.0006\n",
      "Epoch [188/200], Loss: 0.0009\n",
      "Epoch [189/200], Loss: 0.0008\n",
      "Epoch [190/200], Loss: 0.0010\n",
      "Epoch [191/200], Loss: 0.0007\n",
      "Epoch [192/200], Loss: 0.0007\n",
      "Epoch [193/200], Loss: 0.0008\n",
      "Epoch [194/200], Loss: 0.0008\n",
      "Epoch [195/200], Loss: 0.0014\n",
      "Epoch [196/200], Loss: 0.0005\n",
      "Epoch [197/200], Loss: 0.0010\n",
      "Epoch [198/200], Loss: 0.0007\n",
      "Epoch [199/200], Loss: 0.0010\n",
      "Epoch [200/200], Loss: 0.0009\n"
     ]
    }
   ],
   "source": [
    "#training\n",
    "criterion = nn.MSELoss()\n",
    "optimizer = torch.optim.Adam(model.parameters(), lr=0.001)\n",
    "\n",
    "num_epochs = 200\n",
    "for epoch in range(num_epochs):\n",
    "    model.train()\n",
    "    for X_batch, y_batch in train_loader:\n",
    "        X_batch = X_batch.unsqueeze(1)\n",
    "        X_batch, y_batch = X_batch.to(device), y_batch.to(device)\n",
    "        outputs = model(X_batch)\n",
    "        loss = criterion(outputs, y_batch)\n",
    "        optimizer.zero_grad()\n",
    "        loss.backward()\n",
    "        optimizer.step()\n",
    "\n",
    "    print(f'Epoch [{epoch+1}/{num_epochs}], Loss: {loss.item():.4f}')"
   ]
  },
  {
   "cell_type": "code",
   "execution_count": 34,
   "id": "16d41ca6-b50e-4711-9169-de7623a0b157",
   "metadata": {},
   "outputs": [],
   "source": [
    "model.eval()\n",
    "with torch.no_grad():\n",
    "    y_pred = []\n",
    "    y_true = []\n",
    "    for X_batch, y_batch in test_loader:\n",
    "        X_batch = X_batch.unsqueeze(1)\n",
    "        X_batch, y_batch = X_batch.to(device), y_batch.to(device)\n",
    "        outputs = model(X_batch)\n",
    "        y_pred.extend(outputs.cpu().numpy())\n",
    "        y_true.extend(y_batch.cpu().numpy())\n",
    "\n",
    "    y_pred = np.array(y_pred)\n",
    "    y_true = np.array(y_true)"
   ]
  },
  {
   "cell_type": "code",
   "execution_count": 36,
   "id": "828294ef-f4dc-4628-8785-5d507c213487",
   "metadata": {},
   "outputs": [],
   "source": [
    "y_pred = np.concatenate([scalers[col].inverse_transform(y_pred) for col in features], axis=1)\n",
    "y_true = np.concatenate([scalers[col].inverse_transform(y_true) for col in features], axis=1)"
   ]
  },
  {
   "cell_type": "code",
   "execution_count": 38,
   "id": "dc54b1d8-a2cc-4fa0-bc54-6061a01360c9",
   "metadata": {},
   "outputs": [
    {
     "data": {
      "image/png": "[encoded data removed]",
      "text/plain": [
       "<Figure size 1200x800 with 4 Axes>"
      ]
     },
     "metadata": {},
     "output_type": "display_data"
    }
   ],
   "source": [
    "plt.figure(figsize=(12, 8))\n",
    "for i, feature in enumerate(features):\n",
    "    plt.subplot(len(features), 1, i+1)\n",
    "    plt.plot(y_true[:, i], label=f'True {feature}')\n",
    "    plt.plot(y_pred[:, i], label=f'Predicted {feature}')\n",
    "    plt.legend()\n",
    "plt.show()"
   ]
  },
  {
   "cell_type": "code",
   "execution_count": 71,
   "id": "1bb0a71f-25d5-4b76-8318-bcf5342bf0a3",
   "metadata": {},
   "outputs": [
    {
     "name": "stdout",
     "output_type": "stream",
     "text": [
      "Predicted values for day 50: [23.827213 23.957638 23.6094   23.733984 24.198849 24.327105 23.984655\n",
      " 24.107168 23.46553  23.600182 23.240652 23.369276 23.60604  23.74134\n",
      " 23.380075 23.509321]\n",
      "Actual values for day 50: [23.74     24.20464  23.96715  24.717861 24.113083 24.57     24.336458\n",
      " 25.074688 23.375486 23.85519  23.61     24.38505  23.515562 23.997581\n",
      " 23.751207 24.53    ]\n"
     ]
    }
   ],
   "source": [
    "predicted_values = y_pred[400]\n",
    "actual_values = y_true[400]\n",
    "\n",
    "# Print them to compare\n",
    "print(f\"Predicted values for day {50}: {predicted_values}\")\n",
    "print(f\"Actual values for day {50}: {actual_values}\")"
   ]
  },
  {
   "cell_type": "code",
   "execution_count": 73,
   "id": "af5c6fe7-5f71-409e-8d8e-9c75088c8d7a",
   "metadata": {},
   "outputs": [
    {
     "data": {
      "text/plain": [
       "array([23.827213, 23.957638, 23.6094  , 23.733984, 24.198849, 24.327105,\n",
       "       23.984655, 24.107168, 23.46553 , 23.600182, 23.240652, 23.369276,\n",
       "       23.60604 , 23.74134 , 23.380075, 23.509321], dtype=float32)"
      ]
     },
     "execution_count": 73,
     "metadata": {},
     "output_type": "execute_result"
    }
   ],
   "source": [
    "predicted_values"
   ]
  },
  {
   "cell_type": "code",
   "execution_count": 75,
   "id": "de5a13a0-eac0-4db2-8219-645e2fe6a456",
   "metadata": {},
   "outputs": [
    {
     "data": {
      "text/plain": [
       "array([23.74    , 24.20464 , 23.96715 , 24.717861, 24.113083, 24.57    ,\n",
       "       24.336458, 25.074688, 23.375486, 23.85519 , 23.61    , 24.38505 ,\n",
       "       23.515562, 23.997581, 23.751207, 24.53    ], dtype=float32)"
      ]
     },
     "execution_count": 75,
     "metadata": {},
     "output_type": "execute_result"
    }
   ],
   "source": [
    "actual_values"
   ]
  },
  {
   "cell_type": "code",
   "execution_count": null,
   "id": "bced8d28-6bc5-4d73-ba63-80ec36c930ee",
   "metadata": {},
   "outputs": [],
   "source": []
  }
 ],
 "metadata": {
  "kernelspec": {
   "display_name": "Python 3 (ipykernel)",
   "language": "python",
   "name": "python3"
  },
  "language_info": {
   "codemirror_mode": {
    "name": "ipython",
    "version": 3
   },
   "file_extension": ".py",
   "mimetype": "text/x-python",
   "name": "python",
   "nbconvert_exporter": "python",
   "pygments_lexer": "ipython3",
   "version": "3.12.4"
  }
 },
 "nbformat": 4,
 "nbformat_minor": 5
}
